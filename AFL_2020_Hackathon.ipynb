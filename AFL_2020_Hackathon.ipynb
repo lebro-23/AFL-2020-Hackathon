{
 "cells": [
  {
   "cell_type": "code",
   "execution_count": 507,
   "metadata": {},
   "outputs": [
    {
     "name": "stderr",
     "output_type": "stream",
     "text": [
      "/anaconda3/lib/python3.6/site-packages/lightgbm/__init__.py:48: UserWarning: Starting from version 2.2.1, the library file in distribution wheels for macOS is built by the Apple Clang (Xcode_8.3.3) compiler.\n",
      "This means that in case of installing LightGBM from PyPI via the ``pip install lightgbm`` command, you don't need to install the gcc compiler anymore.\n",
      "Instead of that, you need to install the OpenMP library, which is required for running LightGBM on the system with the Apple Clang compiler.\n",
      "You can install the OpenMP library by the following command: ``brew install libomp``.\n",
      "  \"You can install the OpenMP library by the following command: ``brew install libomp``.\", UserWarning)\n"
     ]
    }
   ],
   "source": [
    "import pandas as pd\n",
    "from sklearn.model_selection import train_test_split\n",
    "from sklearn.preprocessing import StandardScaler\n",
    "from sklearn.model_selection import GridSearchCV\n",
    "from functools import reduce\n",
    "from xgboost import XGBRegressor\n",
    "from sklearn.metrics import r2_score, mean_absolute_error\n",
    "import matplotlib.pyplot as plt\n",
    "import shap\n",
    "import numpy as np"
   ]
  },
  {
   "cell_type": "code",
   "execution_count": 701,
   "metadata": {},
   "outputs": [],
   "source": [
    "#SET DIRECTORY NAME AND READ IN ALL DATA FILES\n",
    "directory_name = 'Downloads/STWS_Hackathon_Data_2020/'\n",
    "\n",
    "team_summary_20_df = pd.read_csv(directory_name + \"Team Summary 2020.csv\")\n",
    "team_summary_19_df = pd.read_csv(directory_name + \"Team Summary 2019.csv\")\n",
    "team_summary_18_df = pd.read_csv(directory_name + \"Team Summary 2018.csv\")\n",
    "\n",
    "player_summary_20_df = pd.read_csv(directory_name + \"Player Summary 2020.csv\")\n",
    "player_summary_19_df = pd.read_csv(directory_name + \"Player Summary 2019.csv\")\n",
    "player_summary_18_df = pd.read_csv(directory_name + \"Player Summary 2018.csv\")"
   ]
  },
  {
   "cell_type": "code",
   "execution_count": 702,
   "metadata": {},
   "outputs": [],
   "source": [
    "#READ IN BROWNLOW POINTS DATA\n",
    "#https://afltables.com/afl/brownlow/brownlow20018.html\n",
    "#https://afltables.com/afl/brownlow/brownlow2019.html\n",
    "#https://afltables.com/afl/brownlow/brownlow2020.html\n",
    "brownlow_18_df = pd.read_csv(directory_name + \"Brownlow_Pts_2018.csv\",encoding = \"ISO-8859-1\")\n",
    "brownlow_19_df = pd.read_csv(directory_name + \"Brownlow_Pts_2019.csv\",encoding = \"ISO-8859-1\")\n",
    "brownlow_20_df = pd.read_csv(directory_name + \"Brownlow_Pts_2020.csv\",encoding = \"ISO-8859-1\")"
   ]
  },
  {
   "cell_type": "code",
   "execution_count": 717,
   "metadata": {},
   "outputs": [],
   "source": [
    "##ALL FUNCTIONS FOR MODELLING AND TESTING\n",
    "\n",
    "def clean_brownlow_df(brownlow_df,season):\n",
    "    \n",
    "    brownlow_df = brownlow_df.copy()\n",
    "    brownlow_df.columns = [c.strip() for c in brownlow_df.columns]\n",
    "    brownlow_df = brownlow_df.iloc[:,0:-4]\n",
    "    brownlow_df = brownlow_df.melt(id_vars=['Player','TM','V','GM'])\n",
    "    brownlow_df.rename(columns={'variable':\"GROUP_ROUND_NO\",'value':'BROWNIE_PTS'},inplace=True)\n",
    "    brownlow_df['SEASON_ID'] = season\n",
    "    brownlow_df.loc[brownlow_df['BROWNIE_PTS'].isna(),'BROWNIE_PTS'] = '0'\n",
    "    brownlow_df['BROWNIE_PTS'] = [b.replace('-','0') for b in brownlow_df['BROWNIE_PTS']]\n",
    "    brownlow_df['FULLNAME'] = [p.split(',')[1].strip() + ' ' + p.split(',')[0].strip() if len(p.split(',')) > 1 else '' for p in brownlow_df['Player']]    \n",
    "    brownlow_df = brownlow_df.loc[:,'GROUP_ROUND_NO':'FULLNAME']\n",
    "    brownlow_df=brownlow_df.astype({'GROUP_ROUND_NO': 'int64','BROWNIE_PTS': 'int64'})\n",
    "    \n",
    "    return brownlow_df\n",
    "\n",
    "def create_player_modelling_df(brownlow_df,player_summary_df):\n",
    "    \n",
    "    brownlow_df = brownlow_df.copy()\n",
    "    player_summary_df = player_summary_df.copy()\n",
    "    player_brownlow_df = player_summary_df.join(brownlow_df.set_index(['SEASON_ID','GROUP_ROUND_NO','FULLNAME']),on=['SEASON_ID','GROUP_ROUND_NO','FULLNAME'],how='left')\n",
    "    player_brownlow_df.loc[player_brownlow_df['BROWNIE_PTS'].isna(),'BROWNIE_PTS'] = 0\n",
    "    player_stats_df = player_brownlow_df.groupby(['SEASON_ID','MATCH_ID','GROUP_ROUND_NO','FULLNAME']).sum().loc[:,'BALL_UP_CLEARANCE':'TURNOVER_UNFORCED_GIVEAWAY']\n",
    "    player_stats_df.drop(['RATING','RANKING_PTS','RATING_BALL_USE','RATING_BALL_WINNING','RATING_DEFENCE','RATING_FIELD_KICKS','RATING_HITOUTS','RATING_PRESSURE','RATING_SHOTS'],axis=1,inplace=True)\n",
    "    player_outcomes_df = player_brownlow_df.groupby(['SEASON_ID','MATCH_ID','GROUP_ROUND_NO','FULLNAME']).mean().loc[:,'BROWNIE_PTS']\n",
    "    player_comb_df = player_stats_df.join(player_outcomes_df)\n",
    "    \n",
    "    return player_comb_df\n",
    "\n",
    "def create_player_rating_df(brownlow_df,player_summary_df):\n",
    "    \n",
    "    brownlow_df = brownlow_df.copy()\n",
    "    player_summary_df = player_summary_df.copy()\n",
    "    player_brownlow_df = player_summary_df.join(brownlow_df.set_index(['SEASON_ID','GROUP_ROUND_NO','FULLNAME']),on=['SEASON_ID','GROUP_ROUND_NO','FULLNAME'],how='left')\n",
    "    player_brownlow_df.loc[player_brownlow_df['BROWNIE_PTS'].isna(),'BROWNIE_PTS'] = 0\n",
    "    player_stats_df = player_brownlow_df.groupby(['SEASON_ID','MATCH_ID','GROUP_ROUND_NO','FULLNAME']).sum().loc[:,'BALL_UP_CLEARANCE':'TURNOVER_UNFORCED_GIVEAWAY']\n",
    "    player_stats_df = player_stats_df.loc[:,['RATING_BALL_USE','RATING_BALL_WINNING','RATING_DEFENCE','RATING_FIELD_KICKS','RATING_HITOUTS','RATING_PRESSURE','RATING_SHOTS']]\n",
    "    player_outcomes_df = player_brownlow_df.groupby(['SEASON_ID','MATCH_ID','GROUP_ROUND_NO','FULLNAME']).mean().loc[:,'BROWNIE_PTS']\n",
    "    player_comb_df = player_stats_df.join(player_outcomes_df)\n",
    "    \n",
    "    return player_comb_df\n",
    "\n",
    "def create_team_modelling_df(team_summary_df):\n",
    "    \n",
    "    team_summary_df = team_summary_df.copy()\n",
    "    match_stats_df = team_summary_df.groupby(['MATCH_ID','SQUAD_NAME','PERIOD']).sum().loc[:,'BALL_UP':]\n",
    "    match_stats_df.drop(['SCORING_SHOTS','GOAL','GOAL_ASSIST','SHOT_AT_GOAL','BEHIND_ASSIST','BEHIND_INC_RUSH','SCORE_ASSIST',\n",
    "                         'EXPECTED_SCORE','IN50_TARGET_PLAY_SCORE','IN50_TARGET_TEAM_SCORE','LONG_DOWN_LINE_SCORE','TURNOVER_FORCED_PTS',\n",
    "                         'BU_GOAL_LAUNCH','CB_GOAL_LAUNCH','D50_REB_GOAL','KI_GOAL_LAUNCH','PG_GOAL_LAUNCH','ST_GOAL_LAUNCH','TI_GOAL_LAUNCH',\n",
    "                         'BU_BEHIND_LAUNCH','CB_BEHIND_LAUNCH','KI_BEHIND_LAUNCH','PG_BEHIND_LAUNCH','ST_BEHIND_LAUNCH','TI_BEHIND_LAUNCH',\n",
    "                         'BU_SCORE_LAUNCH','CB_SCORE_LAUNCH','D50_REB_SCORE','KI_SCORE_LAUNCH','PG_SCORE_LAUNCH','ST_SCORE_LAUNCH','TI_SCORE_LAUNCH',                         \n",
    "                         'SCORE','RATING','RANKING_PTS','RATING_BALL_USE','RATING_BALL_WINNING','RATING_DEFENCE','RATING_FIELD_KICKS','RATING_HITOUTS',\n",
    "                         'RATING_PRESSURE','RATING_SHOTS'],axis=1,inplace=True)\n",
    "    match_outcomes_df = team_summary_df.groupby(['MATCH_ID','SQUAD_NAME','PERIOD']).mean().loc[:,'SQUAD_MARGIN':'MARGIN']\n",
    "    team_comb_df = match_stats_df.join(match_outcomes_df)\n",
    "    team_comb_df.drop('SQUAD_MARGIN',axis=1,inplace=True)\n",
    "    \n",
    "    return team_comb_df\n",
    "\n",
    "def create_team_rating_df(team_summary_df):\n",
    "    \n",
    "    team_summary_df = team_summary_df.copy()\n",
    "    match_stats_df = team_summary_df.groupby(['MATCH_ID','SQUAD_NAME','PERIOD']).sum().loc[:,'BALL_UP':]\n",
    "    match_stats_df = match_stats_df.loc[:,['RATING_BALL_USE','RATING_BALL_WINNING','RATING_DEFENCE','RATING_FIELD_KICKS','RATING_HITOUTS','RATING_PRESSURE','RATING_SHOTS']]\n",
    "    match_outcomes_df = team_summary_df.groupby(['MATCH_ID','SQUAD_NAME','PERIOD']).mean().loc[:,'SQUAD_MARGIN':'MARGIN']\n",
    "    team_comb_df = match_stats_df.join(match_outcomes_df)\n",
    "    team_comb_df.drop('SQUAD_MARGIN',axis=1,inplace=True)\n",
    "    \n",
    "    return team_comb_df\n",
    "\n",
    "def split_scale_dataset(modelling_df):\n",
    "    \n",
    "    modelling_df = modelling_df.copy()\n",
    "    seed = 23\n",
    "    test_size = 0.1\n",
    "    X_train, X_test, y_train, y_test = train_test_split(modelling_df.iloc[:,:-1], modelling_df.iloc[:,-1], test_size=test_size, random_state=seed)\n",
    "    \n",
    "    s_scaler = StandardScaler().fit(X_train)\n",
    "    X_train_scaled = pd.DataFrame(s_scaler.transform(X_train))\n",
    "    X_test_scaled = pd.DataFrame(s_scaler.transform(X_test))\n",
    "    \n",
    "    X_train_scaled.index = X_train.index \n",
    "    X_test_scaled.index = X_test.index\n",
    "    \n",
    "    cols = ['f' + str(x) for x in X_train_scaled.columns]\n",
    "    X_train_scaled.columns = cols\n",
    "    X_test_scaled.columns = cols\n",
    "    \n",
    "    return X_train_scaled,X_test_scaled,y_train,y_test\n",
    "\n",
    "def grid_search_cv_model(X_train,y_train):\n",
    "    \n",
    "    X_train = X_train.copy()\n",
    "    y_train = y_train.copy()\n",
    "    \n",
    "    model = XGBRegressor()\n",
    "\n",
    "    param_grid = {\n",
    "        'n_estimators': [400],\n",
    "        'colsample_bytree': [0.7],\n",
    "        'max_depth': [10],\n",
    "        'reg_alpha': [1.1, 1.3],\n",
    "        'gamma': [0,1],\n",
    "        'reg_lambda': [1.1, 1.3],\n",
    "        'subsample': [0.7, 0.9]\n",
    "    }\n",
    "\n",
    "    gs = GridSearchCV(\n",
    "        estimator=model,\n",
    "        param_grid=param_grid, \n",
    "        cv=5, \n",
    "        n_jobs=4, \n",
    "        scoring='r2',\n",
    "        verbose=2\n",
    "    )\n",
    "\n",
    "    model = gs.fit(X_train, y_train)\n",
    "    \n",
    "    return model\n",
    "\n",
    "def get_testing_df(X_test,y_test,model):\n",
    "    \n",
    "    X_test = X_test.copy()\n",
    "    y_test = y_test.copy()\n",
    "    X_test_mod = X_test.copy()\n",
    "    \n",
    "    if type(X_full_18) != np.ndarray:\n",
    "        X_test_mod.columns = model.best_estimator_.get_booster().feature_names\n",
    "    \n",
    "    preds = model.predict(X_test)\n",
    "    testing_df = pd.DataFrame({'preds':preds,'actuals':y_test})\n",
    "    \n",
    "    return testing_df\n",
    "\n",
    "def get_feature_imp_df(modelling_df,model):\n",
    "    \n",
    "    modelling_df = modelling_df.copy()\n",
    "    \n",
    "    feature_imp_df = pd.DataFrame({'Feature':modelling_df.iloc[:,:-1].columns,'Gain':model.best_estimator_.feature_importances_})\n",
    "    feature_imp_df = feature_imp_df.sort_values(['Gain'],ascending=False)\n",
    "    \n",
    "    return feature_imp_df\n",
    "\n",
    "def get_shap_imp_df(modelling_df,X_train,model):\n",
    "    \n",
    "    modelling_df = modelling_df.copy()\n",
    "    X_train = X_train.copy()\n",
    "    \n",
    "    X_df = pd.DataFrame(X_train)\n",
    "    X_df.columns = modelling_df.iloc[:,:-1].columns\n",
    "    explainer = shap.TreeExplainer(model.best_estimator_)\n",
    "    shap_values = explainer.shap_values(X_df)\n",
    "    \n",
    "    return shap_values, X_df"
   ]
  },
  {
   "cell_type": "code",
   "execution_count": null,
   "metadata": {},
   "outputs": [],
   "source": [
    "#####################################\n",
    "#####################################\n",
    "############PLAYER MODELS############\n",
    "#####################################\n",
    "#####################################"
   ]
  },
  {
   "cell_type": "code",
   "execution_count": 704,
   "metadata": {},
   "outputs": [
    {
     "data": {
      "text/html": [
       "<div>\n",
       "<style scoped>\n",
       "    .dataframe tbody tr th:only-of-type {\n",
       "        vertical-align: middle;\n",
       "    }\n",
       "\n",
       "    .dataframe tbody tr th {\n",
       "        vertical-align: top;\n",
       "    }\n",
       "\n",
       "    .dataframe thead th {\n",
       "        text-align: right;\n",
       "    }\n",
       "</style>\n",
       "<table border=\"1\" class=\"dataframe\">\n",
       "  <thead>\n",
       "    <tr style=\"text-align: right;\">\n",
       "      <th></th>\n",
       "      <th>GROUP_ROUND_NO</th>\n",
       "      <th>BROWNIE_PTS</th>\n",
       "      <th>SEASON_ID</th>\n",
       "      <th>FULLNAME</th>\n",
       "    </tr>\n",
       "  </thead>\n",
       "  <tbody>\n",
       "    <tr>\n",
       "      <th>0</th>\n",
       "      <td>1</td>\n",
       "      <td>3</td>\n",
       "      <td>2018</td>\n",
       "      <td>Tom Mitchell</td>\n",
       "    </tr>\n",
       "    <tr>\n",
       "      <th>1</th>\n",
       "      <td>1</td>\n",
       "      <td>0</td>\n",
       "      <td>2018</td>\n",
       "      <td>Steele Sidebottom</td>\n",
       "    </tr>\n",
       "    <tr>\n",
       "      <th>2</th>\n",
       "      <td>1</td>\n",
       "      <td>0</td>\n",
       "      <td>2018</td>\n",
       "      <td>Angus Brayshaw</td>\n",
       "    </tr>\n",
       "    <tr>\n",
       "      <th>3</th>\n",
       "      <td>1</td>\n",
       "      <td>0</td>\n",
       "      <td>2018</td>\n",
       "      <td>Max Gawn</td>\n",
       "    </tr>\n",
       "    <tr>\n",
       "      <th>4</th>\n",
       "      <td>1</td>\n",
       "      <td>2</td>\n",
       "      <td>2018</td>\n",
       "      <td>Patrick Cripps</td>\n",
       "    </tr>\n",
       "  </tbody>\n",
       "</table>\n",
       "</div>"
      ],
      "text/plain": [
       "   GROUP_ROUND_NO  BROWNIE_PTS  SEASON_ID           FULLNAME\n",
       "0               1            3       2018       Tom Mitchell\n",
       "1               1            0       2018  Steele Sidebottom\n",
       "2               1            0       2018     Angus Brayshaw\n",
       "3               1            0       2018           Max Gawn\n",
       "4               1            2       2018     Patrick Cripps"
      ]
     },
     "execution_count": 704,
     "metadata": {},
     "output_type": "execute_result"
    }
   ],
   "source": [
    "#Clean Brownlow data to get into correct format to join to player data\n",
    "brownlow_18_df = clean_brownlow_df(brownlow_18_df,2018)\n",
    "brownlow_19_df = clean_brownlow_df(brownlow_19_df,2019)   \n",
    "brownlow_20_df = clean_brownlow_df(brownlow_20_df,2020)   \n",
    "brownlow_18_df.head()"
   ]
  },
  {
   "cell_type": "code",
   "execution_count": 705,
   "metadata": {},
   "outputs": [
    {
     "data": {
      "text/html": [
       "<div>\n",
       "<style scoped>\n",
       "    .dataframe tbody tr th:only-of-type {\n",
       "        vertical-align: middle;\n",
       "    }\n",
       "\n",
       "    .dataframe tbody tr th {\n",
       "        vertical-align: top;\n",
       "    }\n",
       "\n",
       "    .dataframe thead th {\n",
       "        text-align: right;\n",
       "    }\n",
       "</style>\n",
       "<table border=\"1\" class=\"dataframe\">\n",
       "  <thead>\n",
       "    <tr style=\"text-align: right;\">\n",
       "      <th></th>\n",
       "      <th></th>\n",
       "      <th></th>\n",
       "      <th></th>\n",
       "      <th>BALL_UP_CLEARANCE</th>\n",
       "      <th>BALL_UP_FIRST_POSSESSION</th>\n",
       "      <th>BALL_UP_HITOUT</th>\n",
       "      <th>BALL_UP_HITOUT_SHARKED</th>\n",
       "      <th>BAULK</th>\n",
       "      <th>BAULKED</th>\n",
       "      <th>BEHIND</th>\n",
       "      <th>BEHIND_ASSIST</th>\n",
       "      <th>BLOCK</th>\n",
       "      <th>BROKEN_TACKLE</th>\n",
       "      <th>...</th>\n",
       "      <th>METRES_GAINED_EFF</th>\n",
       "      <th>METRES_GAINED_NET</th>\n",
       "      <th>METRES_GAINED_RETAINED</th>\n",
       "      <th>TI_EFFECTIVE_CLEARANCE</th>\n",
       "      <th>TURNOVER_CLEARING_STOPPAGE</th>\n",
       "      <th>TURNOVER_GENERAL_PLAY</th>\n",
       "      <th>TURNOVER_GIVEAWAY</th>\n",
       "      <th>TURNOVER_TAKEAWAY</th>\n",
       "      <th>TURNOVER_UNFORCED_GIVEAWAY</th>\n",
       "      <th>BROWNIE_PTS</th>\n",
       "    </tr>\n",
       "    <tr>\n",
       "      <th>SEASON_ID</th>\n",
       "      <th>MATCH_ID</th>\n",
       "      <th>GROUP_ROUND_NO</th>\n",
       "      <th>FULLNAME</th>\n",
       "      <th></th>\n",
       "      <th></th>\n",
       "      <th></th>\n",
       "      <th></th>\n",
       "      <th></th>\n",
       "      <th></th>\n",
       "      <th></th>\n",
       "      <th></th>\n",
       "      <th></th>\n",
       "      <th></th>\n",
       "      <th></th>\n",
       "      <th></th>\n",
       "      <th></th>\n",
       "      <th></th>\n",
       "      <th></th>\n",
       "      <th></th>\n",
       "      <th></th>\n",
       "      <th></th>\n",
       "      <th></th>\n",
       "      <th></th>\n",
       "      <th></th>\n",
       "    </tr>\n",
       "  </thead>\n",
       "  <tbody>\n",
       "    <tr>\n",
       "      <th rowspan=\"5\" valign=\"top\">2018</th>\n",
       "      <th rowspan=\"5\" valign=\"top\">104110101</th>\n",
       "      <th rowspan=\"5\" valign=\"top\">24</th>\n",
       "      <th>Alex Rance</th>\n",
       "      <td>0</td>\n",
       "      <td>0</td>\n",
       "      <td>0</td>\n",
       "      <td>0</td>\n",
       "      <td>0</td>\n",
       "      <td>0</td>\n",
       "      <td>0</td>\n",
       "      <td>0</td>\n",
       "      <td>1</td>\n",
       "      <td>0</td>\n",
       "      <td>...</td>\n",
       "      <td>243</td>\n",
       "      <td>517</td>\n",
       "      <td>129</td>\n",
       "      <td>0</td>\n",
       "      <td>0</td>\n",
       "      <td>5</td>\n",
       "      <td>0</td>\n",
       "      <td>5</td>\n",
       "      <td>0</td>\n",
       "      <td>0.0</td>\n",
       "    </tr>\n",
       "    <tr>\n",
       "      <th>Bachar Houli</th>\n",
       "      <td>0</td>\n",
       "      <td>0</td>\n",
       "      <td>0</td>\n",
       "      <td>0</td>\n",
       "      <td>0</td>\n",
       "      <td>0</td>\n",
       "      <td>0</td>\n",
       "      <td>0</td>\n",
       "      <td>0</td>\n",
       "      <td>0</td>\n",
       "      <td>...</td>\n",
       "      <td>247</td>\n",
       "      <td>538</td>\n",
       "      <td>153</td>\n",
       "      <td>1</td>\n",
       "      <td>0</td>\n",
       "      <td>8</td>\n",
       "      <td>3</td>\n",
       "      <td>5</td>\n",
       "      <td>2</td>\n",
       "      <td>0.0</td>\n",
       "    </tr>\n",
       "    <tr>\n",
       "      <th>Ben McEvoy</th>\n",
       "      <td>0</td>\n",
       "      <td>0</td>\n",
       "      <td>4</td>\n",
       "      <td>0</td>\n",
       "      <td>0</td>\n",
       "      <td>0</td>\n",
       "      <td>0</td>\n",
       "      <td>0</td>\n",
       "      <td>0</td>\n",
       "      <td>0</td>\n",
       "      <td>...</td>\n",
       "      <td>10</td>\n",
       "      <td>70</td>\n",
       "      <td>-4</td>\n",
       "      <td>1</td>\n",
       "      <td>0</td>\n",
       "      <td>0</td>\n",
       "      <td>0</td>\n",
       "      <td>0</td>\n",
       "      <td>0</td>\n",
       "      <td>0.0</td>\n",
       "    </tr>\n",
       "    <tr>\n",
       "      <th>Ben Stratton</th>\n",
       "      <td>0</td>\n",
       "      <td>0</td>\n",
       "      <td>0</td>\n",
       "      <td>0</td>\n",
       "      <td>0</td>\n",
       "      <td>0</td>\n",
       "      <td>0</td>\n",
       "      <td>0</td>\n",
       "      <td>0</td>\n",
       "      <td>0</td>\n",
       "      <td>...</td>\n",
       "      <td>98</td>\n",
       "      <td>214</td>\n",
       "      <td>30</td>\n",
       "      <td>0</td>\n",
       "      <td>1</td>\n",
       "      <td>4</td>\n",
       "      <td>1</td>\n",
       "      <td>4</td>\n",
       "      <td>0</td>\n",
       "      <td>0.0</td>\n",
       "    </tr>\n",
       "    <tr>\n",
       "      <th>Blake Hardwick</th>\n",
       "      <td>1</td>\n",
       "      <td>1</td>\n",
       "      <td>0</td>\n",
       "      <td>0</td>\n",
       "      <td>0</td>\n",
       "      <td>0</td>\n",
       "      <td>0</td>\n",
       "      <td>0</td>\n",
       "      <td>0</td>\n",
       "      <td>0</td>\n",
       "      <td>...</td>\n",
       "      <td>155</td>\n",
       "      <td>421</td>\n",
       "      <td>38</td>\n",
       "      <td>0</td>\n",
       "      <td>2</td>\n",
       "      <td>6</td>\n",
       "      <td>4</td>\n",
       "      <td>4</td>\n",
       "      <td>1</td>\n",
       "      <td>0.0</td>\n",
       "    </tr>\n",
       "  </tbody>\n",
       "</table>\n",
       "<p>5 rows × 220 columns</p>\n",
       "</div>"
      ],
      "text/plain": [
       "                                                   BALL_UP_CLEARANCE  \\\n",
       "SEASON_ID MATCH_ID  GROUP_ROUND_NO FULLNAME                            \n",
       "2018      104110101 24             Alex Rance                      0   \n",
       "                                   Bachar Houli                    0   \n",
       "                                   Ben McEvoy                      0   \n",
       "                                   Ben Stratton                    0   \n",
       "                                   Blake Hardwick                  1   \n",
       "\n",
       "                                                   BALL_UP_FIRST_POSSESSION  \\\n",
       "SEASON_ID MATCH_ID  GROUP_ROUND_NO FULLNAME                                   \n",
       "2018      104110101 24             Alex Rance                             0   \n",
       "                                   Bachar Houli                           0   \n",
       "                                   Ben McEvoy                             0   \n",
       "                                   Ben Stratton                           0   \n",
       "                                   Blake Hardwick                         1   \n",
       "\n",
       "                                                   BALL_UP_HITOUT  \\\n",
       "SEASON_ID MATCH_ID  GROUP_ROUND_NO FULLNAME                         \n",
       "2018      104110101 24             Alex Rance                   0   \n",
       "                                   Bachar Houli                 0   \n",
       "                                   Ben McEvoy                   4   \n",
       "                                   Ben Stratton                 0   \n",
       "                                   Blake Hardwick               0   \n",
       "\n",
       "                                                   BALL_UP_HITOUT_SHARKED  \\\n",
       "SEASON_ID MATCH_ID  GROUP_ROUND_NO FULLNAME                                 \n",
       "2018      104110101 24             Alex Rance                           0   \n",
       "                                   Bachar Houli                         0   \n",
       "                                   Ben McEvoy                           0   \n",
       "                                   Ben Stratton                         0   \n",
       "                                   Blake Hardwick                       0   \n",
       "\n",
       "                                                   BAULK  BAULKED  BEHIND  \\\n",
       "SEASON_ID MATCH_ID  GROUP_ROUND_NO FULLNAME                                 \n",
       "2018      104110101 24             Alex Rance          0        0       0   \n",
       "                                   Bachar Houli        0        0       0   \n",
       "                                   Ben McEvoy          0        0       0   \n",
       "                                   Ben Stratton        0        0       0   \n",
       "                                   Blake Hardwick      0        0       0   \n",
       "\n",
       "                                                   BEHIND_ASSIST  BLOCK  \\\n",
       "SEASON_ID MATCH_ID  GROUP_ROUND_NO FULLNAME                               \n",
       "2018      104110101 24             Alex Rance                  0      1   \n",
       "                                   Bachar Houli                0      0   \n",
       "                                   Ben McEvoy                  0      0   \n",
       "                                   Ben Stratton                0      0   \n",
       "                                   Blake Hardwick              0      0   \n",
       "\n",
       "                                                   BROKEN_TACKLE  ...  \\\n",
       "SEASON_ID MATCH_ID  GROUP_ROUND_NO FULLNAME                       ...   \n",
       "2018      104110101 24             Alex Rance                  0  ...   \n",
       "                                   Bachar Houli                0  ...   \n",
       "                                   Ben McEvoy                  0  ...   \n",
       "                                   Ben Stratton                0  ...   \n",
       "                                   Blake Hardwick              0  ...   \n",
       "\n",
       "                                                   METRES_GAINED_EFF  \\\n",
       "SEASON_ID MATCH_ID  GROUP_ROUND_NO FULLNAME                            \n",
       "2018      104110101 24             Alex Rance                    243   \n",
       "                                   Bachar Houli                  247   \n",
       "                                   Ben McEvoy                     10   \n",
       "                                   Ben Stratton                   98   \n",
       "                                   Blake Hardwick                155   \n",
       "\n",
       "                                                   METRES_GAINED_NET  \\\n",
       "SEASON_ID MATCH_ID  GROUP_ROUND_NO FULLNAME                            \n",
       "2018      104110101 24             Alex Rance                    517   \n",
       "                                   Bachar Houli                  538   \n",
       "                                   Ben McEvoy                     70   \n",
       "                                   Ben Stratton                  214   \n",
       "                                   Blake Hardwick                421   \n",
       "\n",
       "                                                   METRES_GAINED_RETAINED  \\\n",
       "SEASON_ID MATCH_ID  GROUP_ROUND_NO FULLNAME                                 \n",
       "2018      104110101 24             Alex Rance                         129   \n",
       "                                   Bachar Houli                       153   \n",
       "                                   Ben McEvoy                          -4   \n",
       "                                   Ben Stratton                        30   \n",
       "                                   Blake Hardwick                      38   \n",
       "\n",
       "                                                   TI_EFFECTIVE_CLEARANCE  \\\n",
       "SEASON_ID MATCH_ID  GROUP_ROUND_NO FULLNAME                                 \n",
       "2018      104110101 24             Alex Rance                           0   \n",
       "                                   Bachar Houli                         1   \n",
       "                                   Ben McEvoy                           1   \n",
       "                                   Ben Stratton                         0   \n",
       "                                   Blake Hardwick                       0   \n",
       "\n",
       "                                                   TURNOVER_CLEARING_STOPPAGE  \\\n",
       "SEASON_ID MATCH_ID  GROUP_ROUND_NO FULLNAME                                     \n",
       "2018      104110101 24             Alex Rance                               0   \n",
       "                                   Bachar Houli                             0   \n",
       "                                   Ben McEvoy                               0   \n",
       "                                   Ben Stratton                             1   \n",
       "                                   Blake Hardwick                           2   \n",
       "\n",
       "                                                   TURNOVER_GENERAL_PLAY  \\\n",
       "SEASON_ID MATCH_ID  GROUP_ROUND_NO FULLNAME                                \n",
       "2018      104110101 24             Alex Rance                          5   \n",
       "                                   Bachar Houli                        8   \n",
       "                                   Ben McEvoy                          0   \n",
       "                                   Ben Stratton                        4   \n",
       "                                   Blake Hardwick                      6   \n",
       "\n",
       "                                                   TURNOVER_GIVEAWAY  \\\n",
       "SEASON_ID MATCH_ID  GROUP_ROUND_NO FULLNAME                            \n",
       "2018      104110101 24             Alex Rance                      0   \n",
       "                                   Bachar Houli                    3   \n",
       "                                   Ben McEvoy                      0   \n",
       "                                   Ben Stratton                    1   \n",
       "                                   Blake Hardwick                  4   \n",
       "\n",
       "                                                   TURNOVER_TAKEAWAY  \\\n",
       "SEASON_ID MATCH_ID  GROUP_ROUND_NO FULLNAME                            \n",
       "2018      104110101 24             Alex Rance                      5   \n",
       "                                   Bachar Houli                    5   \n",
       "                                   Ben McEvoy                      0   \n",
       "                                   Ben Stratton                    4   \n",
       "                                   Blake Hardwick                  4   \n",
       "\n",
       "                                                   TURNOVER_UNFORCED_GIVEAWAY  \\\n",
       "SEASON_ID MATCH_ID  GROUP_ROUND_NO FULLNAME                                     \n",
       "2018      104110101 24             Alex Rance                               0   \n",
       "                                   Bachar Houli                             2   \n",
       "                                   Ben McEvoy                               0   \n",
       "                                   Ben Stratton                             0   \n",
       "                                   Blake Hardwick                           1   \n",
       "\n",
       "                                                   BROWNIE_PTS  \n",
       "SEASON_ID MATCH_ID  GROUP_ROUND_NO FULLNAME                     \n",
       "2018      104110101 24             Alex Rance              0.0  \n",
       "                                   Bachar Houli            0.0  \n",
       "                                   Ben McEvoy              0.0  \n",
       "                                   Ben Stratton            0.0  \n",
       "                                   Blake Hardwick          0.0  \n",
       "\n",
       "[5 rows x 220 columns]"
      ]
     },
     "execution_count": 705,
     "metadata": {},
     "output_type": "execute_result"
    }
   ],
   "source": [
    "#Join Brownlow data and player data and choose relevant columns to create modelling dataset\n",
    "player_comb_18_df = create_player_modelling_df(brownlow_18_df,player_summary_18_df)\n",
    "player_comb_19_df = create_player_modelling_df(brownlow_19_df,player_summary_19_df)\n",
    "player_comb_20_df = create_player_modelling_df(brownlow_20_df,player_summary_20_df)\n",
    "player_comb_18_df.head()"
   ]
  },
  {
   "cell_type": "code",
   "execution_count": 710,
   "metadata": {},
   "outputs": [],
   "source": [
    "#Split and scale datasets\n",
    "X_train_18, X_test_18, y_train_18, y_test_18 = split_scale_dataset(player_comb_18_df)\n",
    "X_train_19, X_test_19, y_train_19, y_test_19 = split_scale_dataset(player_comb_19_df)\n",
    "X_train_20, X_test_20, y_train_20, y_test_20 = split_scale_dataset(player_comb_20_df)"
   ]
  },
  {
   "cell_type": "code",
   "execution_count": 491,
   "metadata": {},
   "outputs": [
    {
     "name": "stdout",
     "output_type": "stream",
     "text": [
      "Fitting 5 folds for each of 16 candidates, totalling 80 fits\n"
     ]
    },
    {
     "name": "stderr",
     "output_type": "stream",
     "text": [
      "[Parallel(n_jobs=4)]: Using backend LokyBackend with 4 concurrent workers.\n",
      "/anaconda3/lib/python3.6/site-packages/joblib/externals/loky/process_executor.py:706: UserWarning: A worker stopped while some jobs were given to the executor. This can be caused by a too short worker timeout or by a memory leak.\n",
      "  \"timeout or by a memory leak.\", UserWarning\n",
      "[Parallel(n_jobs=4)]: Done  33 tasks      | elapsed:  8.3min\n",
      "[Parallel(n_jobs=4)]: Done  80 out of  80 | elapsed: 20.2min finished\n"
     ]
    },
    {
     "name": "stdout",
     "output_type": "stream",
     "text": [
      "[19:54:56] WARNING: src/objective/regression_obj.cu:152: reg:linear is now deprecated in favor of reg:squarederror.\n"
     ]
    }
   ],
   "source": [
    "#Fit Model for 2018 Season\n",
    "player_model_18 = grid_search_cv_model(X_train_18,y_train_18)"
   ]
  },
  {
   "cell_type": "code",
   "execution_count": 711,
   "metadata": {},
   "outputs": [
    {
     "name": "stdout",
     "output_type": "stream",
     "text": [
      "0.16115417124542003\n"
     ]
    },
    {
     "data": {
      "image/png": "[encoded data removed]",
      "text/plain": [
       "<Figure size 432x288 with 1 Axes>"
      ]
     },
     "metadata": {},
     "output_type": "display_data"
    },
    {
     "data": {
      "text/html": [
       "<div>\n",
       "<style scoped>\n",
       "    .dataframe tbody tr th:only-of-type {\n",
       "        vertical-align: middle;\n",
       "    }\n",
       "\n",
       "    .dataframe tbody tr th {\n",
       "        vertical-align: top;\n",
       "    }\n",
       "\n",
       "    .dataframe thead th {\n",
       "        text-align: right;\n",
       "    }\n",
       "</style>\n",
       "<table border=\"1\" class=\"dataframe\">\n",
       "  <thead>\n",
       "    <tr style=\"text-align: right;\">\n",
       "      <th></th>\n",
       "      <th>Feature</th>\n",
       "      <th>Gain</th>\n",
       "    </tr>\n",
       "  </thead>\n",
       "  <tbody>\n",
       "    <tr>\n",
       "      <th>115</th>\n",
       "      <td>POSSESSION</td>\n",
       "      <td>0.047198</td>\n",
       "    </tr>\n",
       "    <tr>\n",
       "      <th>29</th>\n",
       "      <td>DISPOSAL</td>\n",
       "      <td>0.026475</td>\n",
       "    </tr>\n",
       "    <tr>\n",
       "      <th>130</th>\n",
       "      <td>SCORE</td>\n",
       "      <td>0.025845</td>\n",
       "    </tr>\n",
       "    <tr>\n",
       "      <th>50</th>\n",
       "      <td>GOAL</td>\n",
       "      <td>0.018002</td>\n",
       "    </tr>\n",
       "    <tr>\n",
       "      <th>5</th>\n",
       "      <td>BAULKED</td>\n",
       "      <td>0.013890</td>\n",
       "    </tr>\n",
       "    <tr>\n",
       "      <th>124</th>\n",
       "      <td>RETAIN_DISPOSAL</td>\n",
       "      <td>0.012047</td>\n",
       "    </tr>\n",
       "    <tr>\n",
       "      <th>128</th>\n",
       "      <td>RUNDOWN_TACKLE</td>\n",
       "      <td>0.009692</td>\n",
       "    </tr>\n",
       "    <tr>\n",
       "      <th>202</th>\n",
       "      <td>CONTEST_TARGET</td>\n",
       "      <td>0.009308</td>\n",
       "    </tr>\n",
       "    <tr>\n",
       "      <th>127</th>\n",
       "      <td>RUCK_HARD_BALL_GET</td>\n",
       "      <td>0.009205</td>\n",
       "    </tr>\n",
       "    <tr>\n",
       "      <th>63</th>\n",
       "      <td>HIT_OUT_TO_ADVANTAGE</td>\n",
       "      <td>0.008929</td>\n",
       "    </tr>\n",
       "  </tbody>\n",
       "</table>\n",
       "</div>"
      ],
      "text/plain": [
       "                  Feature      Gain\n",
       "115            POSSESSION  0.047198\n",
       "29               DISPOSAL  0.026475\n",
       "130                 SCORE  0.025845\n",
       "50                   GOAL  0.018002\n",
       "5                 BAULKED  0.013890\n",
       "124       RETAIN_DISPOSAL  0.012047\n",
       "128        RUNDOWN_TACKLE  0.009692\n",
       "202        CONTEST_TARGET  0.009308\n",
       "127    RUCK_HARD_BALL_GET  0.009205\n",
       "63   HIT_OUT_TO_ADVANTAGE  0.008929"
      ]
     },
     "execution_count": 711,
     "metadata": {},
     "output_type": "execute_result"
    }
   ],
   "source": [
    "##Check Results and Feature Importance\n",
    "#Scatter plot of predictions vs actuals\n",
    "testing_df = get_testing_df(X_test_18,y_test_18,player_model_18)\n",
    "plt.scatter(testing_df['preds'],testing_df['actuals'])\n",
    "#Check MAE\n",
    "print(mean_absolute_error(testing_df['preds'],testing_df['actuals']))\n",
    "plt.show()\n",
    "\n",
    "#Top 10 Features\n",
    "feature_imp_df = get_feature_imp_df(player_comb_18_df,player_model_18)\n",
    "feature_imp_df[0:10]"
   ]
  },
  {
   "cell_type": "code",
   "execution_count": 712,
   "metadata": {},
   "outputs": [
    {
     "data": {
      "image/png": "[encoded data removed]",
      "text/plain": [
       "<Figure size 576x684 with 1 Axes>"
      ]
     },
     "metadata": {},
     "output_type": "display_data"
    }
   ],
   "source": [
    "# explain the model's predictions using SHAP\n",
    "shap_values, X_df = get_shap_imp_df(player_comb_18_df,X_train_18,player_model_18)\n",
    "shap.summary_plot(shap_values, X_df, plot_type=\"bar\")"
   ]
  },
  {
   "cell_type": "code",
   "execution_count": 500,
   "metadata": {},
   "outputs": [
    {
     "name": "stdout",
     "output_type": "stream",
     "text": [
      "Fitting 5 folds for each of 16 candidates, totalling 80 fits\n"
     ]
    },
    {
     "name": "stderr",
     "output_type": "stream",
     "text": [
      "[Parallel(n_jobs=4)]: Using backend LokyBackend with 4 concurrent workers.\n",
      "/anaconda3/lib/python3.6/site-packages/joblib/externals/loky/process_executor.py:706: UserWarning: A worker stopped while some jobs were given to the executor. This can be caused by a too short worker timeout or by a memory leak.\n",
      "  \"timeout or by a memory leak.\", UserWarning\n",
      "[Parallel(n_jobs=4)]: Done  33 tasks      | elapsed:  8.2min\n",
      "[Parallel(n_jobs=4)]: Done  80 out of  80 | elapsed: 19.5min finished\n"
     ]
    },
    {
     "name": "stdout",
     "output_type": "stream",
     "text": [
      "[20:37:39] WARNING: src/objective/regression_obj.cu:152: reg:linear is now deprecated in favor of reg:squarederror.\n"
     ]
    }
   ],
   "source": [
    "#Fit Model for 2019 Season\n",
    "player_model_19 = grid_search_cv_model(X_train_19,y_train_19)"
   ]
  },
  {
   "cell_type": "code",
   "execution_count": 713,
   "metadata": {},
   "outputs": [
    {
     "name": "stdout",
     "output_type": "stream",
     "text": [
      "0.1436354532330803\n"
     ]
    },
    {
     "data": {
      "image/png": "[encoded data removed]",
      "text/plain": [
       "<Figure size 432x288 with 1 Axes>"
      ]
     },
     "metadata": {},
     "output_type": "display_data"
    },
    {
     "data": {
      "text/html": [
       "<div>\n",
       "<style scoped>\n",
       "    .dataframe tbody tr th:only-of-type {\n",
       "        vertical-align: middle;\n",
       "    }\n",
       "\n",
       "    .dataframe tbody tr th {\n",
       "        vertical-align: top;\n",
       "    }\n",
       "\n",
       "    .dataframe thead th {\n",
       "        text-align: right;\n",
       "    }\n",
       "</style>\n",
       "<table border=\"1\" class=\"dataframe\">\n",
       "  <thead>\n",
       "    <tr style=\"text-align: right;\">\n",
       "      <th></th>\n",
       "      <th>Feature</th>\n",
       "      <th>Gain</th>\n",
       "    </tr>\n",
       "  </thead>\n",
       "  <tbody>\n",
       "    <tr>\n",
       "      <th>29</th>\n",
       "      <td>DISPOSAL</td>\n",
       "      <td>0.040987</td>\n",
       "    </tr>\n",
       "    <tr>\n",
       "      <th>50</th>\n",
       "      <td>GOAL</td>\n",
       "      <td>0.025618</td>\n",
       "    </tr>\n",
       "    <tr>\n",
       "      <th>115</th>\n",
       "      <td>POSSESSION</td>\n",
       "      <td>0.023342</td>\n",
       "    </tr>\n",
       "    <tr>\n",
       "      <th>130</th>\n",
       "      <td>SCORE</td>\n",
       "      <td>0.016665</td>\n",
       "    </tr>\n",
       "    <tr>\n",
       "      <th>167</th>\n",
       "      <td>CENTRE_BOUNCE_VERSUS</td>\n",
       "      <td>0.015949</td>\n",
       "    </tr>\n",
       "    <tr>\n",
       "      <th>168</th>\n",
       "      <td>RUCK_CONTEST</td>\n",
       "      <td>0.015054</td>\n",
       "    </tr>\n",
       "    <tr>\n",
       "      <th>117</th>\n",
       "      <td>RE50_RESULT_OPP_UP</td>\n",
       "      <td>0.011049</td>\n",
       "    </tr>\n",
       "    <tr>\n",
       "      <th>62</th>\n",
       "      <td>HIT_OUT_SHARKED</td>\n",
       "      <td>0.010471</td>\n",
       "    </tr>\n",
       "    <tr>\n",
       "      <th>163</th>\n",
       "      <td>CB_ABSENT_TEAM_CLEAR</td>\n",
       "      <td>0.009601</td>\n",
       "    </tr>\n",
       "    <tr>\n",
       "      <th>136</th>\n",
       "      <td>SHORT_KICK</td>\n",
       "      <td>0.009042</td>\n",
       "    </tr>\n",
       "  </tbody>\n",
       "</table>\n",
       "</div>"
      ],
      "text/plain": [
       "                  Feature      Gain\n",
       "29               DISPOSAL  0.040987\n",
       "50                   GOAL  0.025618\n",
       "115            POSSESSION  0.023342\n",
       "130                 SCORE  0.016665\n",
       "167  CENTRE_BOUNCE_VERSUS  0.015949\n",
       "168          RUCK_CONTEST  0.015054\n",
       "117    RE50_RESULT_OPP_UP  0.011049\n",
       "62        HIT_OUT_SHARKED  0.010471\n",
       "163  CB_ABSENT_TEAM_CLEAR  0.009601\n",
       "136            SHORT_KICK  0.009042"
      ]
     },
     "execution_count": 713,
     "metadata": {},
     "output_type": "execute_result"
    }
   ],
   "source": [
    "##Check Results and Feature Importance\n",
    "#Scatter plot of predictions vs actuals\n",
    "testing_df = get_testing_df(X_test_19,y_test_19,player_model_19)\n",
    "plt.scatter(testing_df['preds'],testing_df['actuals'])\n",
    "#Check MAE\n",
    "print(mean_absolute_error(testing_df['preds'],testing_df['actuals']))\n",
    "plt.show()\n",
    "\n",
    "#Top 10 Features\n",
    "feature_imp_df = get_feature_imp_df(player_comb_19_df,player_model_19)\n",
    "feature_imp_df[0:10]"
   ]
  },
  {
   "cell_type": "code",
   "execution_count": 714,
   "metadata": {},
   "outputs": [
    {
     "data": {
      "image/png": "[encoded data removed]",
      "text/plain": [
       "<Figure size 576x684 with 1 Axes>"
      ]
     },
     "metadata": {},
     "output_type": "display_data"
    }
   ],
   "source": [
    "# explain the model's predictions using SHAP\n",
    "shap_values, X_df = get_shap_imp_df(player_comb_19_df,X_train_19,player_model_19)\n",
    "shap.summary_plot(shap_values, X_df, plot_type=\"bar\")"
   ]
  },
  {
   "cell_type": "code",
   "execution_count": 502,
   "metadata": {},
   "outputs": [
    {
     "name": "stdout",
     "output_type": "stream",
     "text": [
      "Fitting 5 folds for each of 16 candidates, totalling 80 fits\n"
     ]
    },
    {
     "name": "stderr",
     "output_type": "stream",
     "text": [
      "[Parallel(n_jobs=4)]: Using backend LokyBackend with 4 concurrent workers.\n",
      "[Parallel(n_jobs=4)]: Done  33 tasks      | elapsed:  6.4min\n",
      "[Parallel(n_jobs=4)]: Done  80 out of  80 | elapsed: 15.8min finished\n"
     ]
    },
    {
     "name": "stdout",
     "output_type": "stream",
     "text": [
      "[20:54:34] WARNING: src/objective/regression_obj.cu:152: reg:linear is now deprecated in favor of reg:squarederror.\n"
     ]
    }
   ],
   "source": [
    "#Fit Model for 2018 Season\n",
    "player_model_20 = grid_search_cv_model(X_train_20,y_train_20)"
   ]
  },
  {
   "cell_type": "code",
   "execution_count": 715,
   "metadata": {},
   "outputs": [
    {
     "name": "stdout",
     "output_type": "stream",
     "text": [
      "0.14146250586690273\n"
     ]
    },
    {
     "data": {
      "image/png": "[encoded data removed]",
      "text/plain": [
       "<Figure size 432x288 with 1 Axes>"
      ]
     },
     "metadata": {},
     "output_type": "display_data"
    },
    {
     "data": {
      "text/html": [
       "<div>\n",
       "<style scoped>\n",
       "    .dataframe tbody tr th:only-of-type {\n",
       "        vertical-align: middle;\n",
       "    }\n",
       "\n",
       "    .dataframe tbody tr th {\n",
       "        vertical-align: top;\n",
       "    }\n",
       "\n",
       "    .dataframe thead th {\n",
       "        text-align: right;\n",
       "    }\n",
       "</style>\n",
       "<table border=\"1\" class=\"dataframe\">\n",
       "  <thead>\n",
       "    <tr style=\"text-align: right;\">\n",
       "      <th></th>\n",
       "      <th>Feature</th>\n",
       "      <th>Gain</th>\n",
       "    </tr>\n",
       "  </thead>\n",
       "  <tbody>\n",
       "    <tr>\n",
       "      <th>115</th>\n",
       "      <td>POSSESSION</td>\n",
       "      <td>0.046526</td>\n",
       "    </tr>\n",
       "    <tr>\n",
       "      <th>50</th>\n",
       "      <td>GOAL</td>\n",
       "      <td>0.017718</td>\n",
       "    </tr>\n",
       "    <tr>\n",
       "      <th>124</th>\n",
       "      <td>RETAIN_DISPOSAL</td>\n",
       "      <td>0.017102</td>\n",
       "    </tr>\n",
       "    <tr>\n",
       "      <th>130</th>\n",
       "      <td>SCORE</td>\n",
       "      <td>0.015805</td>\n",
       "    </tr>\n",
       "    <tr>\n",
       "      <th>103</th>\n",
       "      <td>LOOSE_BALL_GET_PRE</td>\n",
       "      <td>0.011896</td>\n",
       "    </tr>\n",
       "    <tr>\n",
       "      <th>13</th>\n",
       "      <td>CB_HITOUT_TO_ADVANTAGE</td>\n",
       "      <td>0.011795</td>\n",
       "    </tr>\n",
       "    <tr>\n",
       "      <th>25</th>\n",
       "      <td>CONTESTED_POSSESSION</td>\n",
       "      <td>0.011549</td>\n",
       "    </tr>\n",
       "    <tr>\n",
       "      <th>82</th>\n",
       "      <td>INTERCEPT_FREE</td>\n",
       "      <td>0.011510</td>\n",
       "    </tr>\n",
       "    <tr>\n",
       "      <th>167</th>\n",
       "      <td>CENTRE_BOUNCE_VERSUS</td>\n",
       "      <td>0.010081</td>\n",
       "    </tr>\n",
       "    <tr>\n",
       "      <th>134</th>\n",
       "      <td>SCOREBOARD_IMPACT</td>\n",
       "      <td>0.009594</td>\n",
       "    </tr>\n",
       "  </tbody>\n",
       "</table>\n",
       "</div>"
      ],
      "text/plain": [
       "                    Feature      Gain\n",
       "115              POSSESSION  0.046526\n",
       "50                     GOAL  0.017718\n",
       "124         RETAIN_DISPOSAL  0.017102\n",
       "130                   SCORE  0.015805\n",
       "103      LOOSE_BALL_GET_PRE  0.011896\n",
       "13   CB_HITOUT_TO_ADVANTAGE  0.011795\n",
       "25     CONTESTED_POSSESSION  0.011549\n",
       "82           INTERCEPT_FREE  0.011510\n",
       "167    CENTRE_BOUNCE_VERSUS  0.010081\n",
       "134       SCOREBOARD_IMPACT  0.009594"
      ]
     },
     "execution_count": 715,
     "metadata": {},
     "output_type": "execute_result"
    }
   ],
   "source": [
    "##Check Results and Feature Importance\n",
    "#Scatter plot of predictions vs actuals\n",
    "testing_df = get_testing_df(X_test_20,y_test_20,player_model_20)\n",
    "plt.scatter(testing_df['preds'],testing_df['actuals'])\n",
    "#Check MAE\n",
    "print(mean_absolute_error(testing_df['preds'],testing_df['actuals']))\n",
    "plt.show()\n",
    "\n",
    "#Top 10 Features\n",
    "feature_imp_df = get_feature_imp_df(player_comb_20_df,player_model_20)\n",
    "feature_imp_df[0:10]"
   ]
  },
  {
   "cell_type": "code",
   "execution_count": 716,
   "metadata": {},
   "outputs": [
    {
     "data": {
      "image/png": "[encoded data removed]",
      "text/plain": [
       "<Figure size 576x684 with 1 Axes>"
      ]
     },
     "metadata": {},
     "output_type": "display_data"
    }
   ],
   "source": [
    "# explain the model's predictions using SHAP\n",
    "shap_values, X_df = get_shap_imp_df(player_comb_20_df,X_train_20,player_model_20)\n",
    "shap.summary_plot(shap_values, X_df, plot_type=\"bar\")"
   ]
  },
  {
   "cell_type": "code",
   "execution_count": 718,
   "metadata": {},
   "outputs": [],
   "source": [
    "#Get full predictions to write to file\n",
    "X_full_18 = player_comb_18_df.iloc[:,:-1].values\n",
    "y_full_18 = player_comb_18_df.iloc[:,-1].values\n",
    "X_full_19 = player_comb_19_df.iloc[:,:-1].values\n",
    "y_full_19 = player_comb_19_df.iloc[:,-1].values\n",
    "X_full_20 = player_comb_20_df.iloc[:,:-1].values\n",
    "y_full_20 = player_comb_20_df.iloc[:,-1].values\n",
    "\n",
    "full_df_18 = get_testing_df(X_full_18,y_full_18,player_model_18)\n",
    "full_df_19 = get_testing_df(X_full_19,y_full_19,player_model_19)\n",
    "full_df_20 = get_testing_df(X_full_20,y_full_20,player_model_20)\n",
    "\n",
    "full_df_18.index = player_comb_18_df.index\n",
    "full_df_19.index = player_comb_19_df.index\n",
    "full_df_20.index = player_comb_20_df.index\n",
    "\n",
    "full_df_18.to_csv(\"AFL-2020-Hackathon/afl_player_preds_2018.csv\")\n",
    "full_df_19.to_csv(\"AFL-2020-Hackathon/afl_player_preds_2019.csv\")\n",
    "full_df_20.to_csv(\"AFL-2020-Hackathon/afl_player_preds_2020.csv\")"
   ]
  },
  {
   "cell_type": "code",
   "execution_count": 719,
   "metadata": {},
   "outputs": [],
   "source": [
    "#Write Shap values to file\n",
    "shap_values_18, X_df_18 = get_shap_imp_df(player_comb_18_df,X_train_18,player_model_18)\n",
    "shap_values_19, X_df_19 = get_shap_imp_df(player_comb_19_df,X_train_19,player_model_19)\n",
    "shap_values_20, X_df_20 = get_shap_imp_df(player_comb_20_df,X_train_20,player_model_20)\n",
    "\n",
    "shap_df_18 = pd.DataFrame(shap_values_18, columns=player_comb_18_df.columns[:-1], index=X_train_18.index)\n",
    "shap_df_19 = pd.DataFrame(shap_values_19, columns=player_comb_19_df.columns[:-1], index=X_train_19.index)\n",
    "shap_df_20 = pd.DataFrame(shap_values_20, columns=player_comb_20_df.columns[:-1], index=X_train_20.index)\n",
    "\n",
    "shap_df_18.to_csv(\"AFL-2020-Hackathon/players_shap_18.csv\")\n",
    "shap_df_19.to_csv(\"AFL-2020-Hackathon/players_shap_19.csv\")\n",
    "shap_df_20.to_csv(\"AFL-2020-Hackathon/players_shap_20.csv\")"
   ]
  },
  {
   "cell_type": "code",
   "execution_count": null,
   "metadata": {},
   "outputs": [],
   "source": [
    "#########################################################################\n",
    "#########################################################################\n",
    "############PLAYER MODELS (CHAMPION RATINGS ONLY)########################\n",
    "#########################################################################\n",
    "#########################################################################"
   ]
  },
  {
   "cell_type": "code",
   "execution_count": 556,
   "metadata": {},
   "outputs": [
    {
     "data": {
      "text/html": [
       "<div>\n",
       "<style scoped>\n",
       "    .dataframe tbody tr th:only-of-type {\n",
       "        vertical-align: middle;\n",
       "    }\n",
       "\n",
       "    .dataframe tbody tr th {\n",
       "        vertical-align: top;\n",
       "    }\n",
       "\n",
       "    .dataframe thead th {\n",
       "        text-align: right;\n",
       "    }\n",
       "</style>\n",
       "<table border=\"1\" class=\"dataframe\">\n",
       "  <thead>\n",
       "    <tr style=\"text-align: right;\">\n",
       "      <th></th>\n",
       "      <th></th>\n",
       "      <th></th>\n",
       "      <th></th>\n",
       "      <th>RATING_BALL_USE</th>\n",
       "      <th>RATING_BALL_WINNING</th>\n",
       "      <th>RATING_DEFENCE</th>\n",
       "      <th>RATING_FIELD_KICKS</th>\n",
       "      <th>RATING_HITOUTS</th>\n",
       "      <th>RATING_PRESSURE</th>\n",
       "      <th>RATING_SHOTS</th>\n",
       "      <th>BROWNIE_PTS</th>\n",
       "    </tr>\n",
       "    <tr>\n",
       "      <th>SEASON_ID</th>\n",
       "      <th>MATCH_ID</th>\n",
       "      <th>GROUP_ROUND_NO</th>\n",
       "      <th>FULLNAME</th>\n",
       "      <th></th>\n",
       "      <th></th>\n",
       "      <th></th>\n",
       "      <th></th>\n",
       "      <th></th>\n",
       "      <th></th>\n",
       "      <th></th>\n",
       "      <th></th>\n",
       "    </tr>\n",
       "  </thead>\n",
       "  <tbody>\n",
       "    <tr>\n",
       "      <th rowspan=\"5\" valign=\"top\">2018</th>\n",
       "      <th rowspan=\"5\" valign=\"top\">104110101</th>\n",
       "      <th rowspan=\"5\" valign=\"top\">24</th>\n",
       "      <th>Alex Rance</th>\n",
       "      <td>1.3</td>\n",
       "      <td>5.2</td>\n",
       "      <td>3.2</td>\n",
       "      <td>0.7</td>\n",
       "      <td>0.0</td>\n",
       "      <td>0.8</td>\n",
       "      <td>0.0</td>\n",
       "      <td>0.0</td>\n",
       "    </tr>\n",
       "    <tr>\n",
       "      <th>Bachar Houli</th>\n",
       "      <td>-0.6</td>\n",
       "      <td>5.0</td>\n",
       "      <td>2.6</td>\n",
       "      <td>-0.2</td>\n",
       "      <td>0.0</td>\n",
       "      <td>2.3</td>\n",
       "      <td>0.0</td>\n",
       "      <td>0.0</td>\n",
       "    </tr>\n",
       "    <tr>\n",
       "      <th>Ben McEvoy</th>\n",
       "      <td>-1.2</td>\n",
       "      <td>5.3</td>\n",
       "      <td>3.5</td>\n",
       "      <td>-1.1</td>\n",
       "      <td>6.9</td>\n",
       "      <td>0.5</td>\n",
       "      <td>0.0</td>\n",
       "      <td>0.0</td>\n",
       "    </tr>\n",
       "    <tr>\n",
       "      <th>Ben Stratton</th>\n",
       "      <td>-3.2</td>\n",
       "      <td>8.1</td>\n",
       "      <td>6.2</td>\n",
       "      <td>-2.2</td>\n",
       "      <td>0.0</td>\n",
       "      <td>0.4</td>\n",
       "      <td>0.0</td>\n",
       "      <td>0.0</td>\n",
       "    </tr>\n",
       "    <tr>\n",
       "      <th>Blake Hardwick</th>\n",
       "      <td>-1.9</td>\n",
       "      <td>8.0</td>\n",
       "      <td>4.0</td>\n",
       "      <td>-1.7</td>\n",
       "      <td>0.0</td>\n",
       "      <td>0.5</td>\n",
       "      <td>0.0</td>\n",
       "      <td>0.0</td>\n",
       "    </tr>\n",
       "  </tbody>\n",
       "</table>\n",
       "</div>"
      ],
      "text/plain": [
       "                                                   RATING_BALL_USE  \\\n",
       "SEASON_ID MATCH_ID  GROUP_ROUND_NO FULLNAME                          \n",
       "2018      104110101 24             Alex Rance                  1.3   \n",
       "                                   Bachar Houli               -0.6   \n",
       "                                   Ben McEvoy                 -1.2   \n",
       "                                   Ben Stratton               -3.2   \n",
       "                                   Blake Hardwick             -1.9   \n",
       "\n",
       "                                                   RATING_BALL_WINNING  \\\n",
       "SEASON_ID MATCH_ID  GROUP_ROUND_NO FULLNAME                              \n",
       "2018      104110101 24             Alex Rance                      5.2   \n",
       "                                   Bachar Houli                    5.0   \n",
       "                                   Ben McEvoy                      5.3   \n",
       "                                   Ben Stratton                    8.1   \n",
       "                                   Blake Hardwick                  8.0   \n",
       "\n",
       "                                                   RATING_DEFENCE  \\\n",
       "SEASON_ID MATCH_ID  GROUP_ROUND_NO FULLNAME                         \n",
       "2018      104110101 24             Alex Rance                 3.2   \n",
       "                                   Bachar Houli               2.6   \n",
       "                                   Ben McEvoy                 3.5   \n",
       "                                   Ben Stratton               6.2   \n",
       "                                   Blake Hardwick             4.0   \n",
       "\n",
       "                                                   RATING_FIELD_KICKS  \\\n",
       "SEASON_ID MATCH_ID  GROUP_ROUND_NO FULLNAME                             \n",
       "2018      104110101 24             Alex Rance                     0.7   \n",
       "                                   Bachar Houli                  -0.2   \n",
       "                                   Ben McEvoy                    -1.1   \n",
       "                                   Ben Stratton                  -2.2   \n",
       "                                   Blake Hardwick                -1.7   \n",
       "\n",
       "                                                   RATING_HITOUTS  \\\n",
       "SEASON_ID MATCH_ID  GROUP_ROUND_NO FULLNAME                         \n",
       "2018      104110101 24             Alex Rance                 0.0   \n",
       "                                   Bachar Houli               0.0   \n",
       "                                   Ben McEvoy                 6.9   \n",
       "                                   Ben Stratton               0.0   \n",
       "                                   Blake Hardwick             0.0   \n",
       "\n",
       "                                                   RATING_PRESSURE  \\\n",
       "SEASON_ID MATCH_ID  GROUP_ROUND_NO FULLNAME                          \n",
       "2018      104110101 24             Alex Rance                  0.8   \n",
       "                                   Bachar Houli                2.3   \n",
       "                                   Ben McEvoy                  0.5   \n",
       "                                   Ben Stratton                0.4   \n",
       "                                   Blake Hardwick              0.5   \n",
       "\n",
       "                                                   RATING_SHOTS  BROWNIE_PTS  \n",
       "SEASON_ID MATCH_ID  GROUP_ROUND_NO FULLNAME                                   \n",
       "2018      104110101 24             Alex Rance               0.0          0.0  \n",
       "                                   Bachar Houli             0.0          0.0  \n",
       "                                   Ben McEvoy               0.0          0.0  \n",
       "                                   Ben Stratton             0.0          0.0  \n",
       "                                   Blake Hardwick           0.0          0.0  "
      ]
     },
     "execution_count": 556,
     "metadata": {},
     "output_type": "execute_result"
    }
   ],
   "source": [
    "#Join Brownlow data and player data and choose only champion rating columns to create modelling dataset\n",
    "player_comb_ratings_18_df = create_player_rating_df(brownlow_18_df,player_summary_18_df)\n",
    "player_comb_ratings_19_df = create_player_rating_df(brownlow_19_df,player_summary_19_df)\n",
    "player_comb_ratings_20_df = create_player_rating_df(brownlow_20_df,player_summary_20_df)\n",
    "player_comb_ratings_18_df.head()"
   ]
  },
  {
   "cell_type": "code",
   "execution_count": 557,
   "metadata": {},
   "outputs": [],
   "source": [
    "#Split and scale datasets\n",
    "X_train_ratings_18, X_test_ratings_18, y_train_ratings_18, y_test_ratings_18 = split_scale_dataset(player_comb_ratings_18_df)\n",
    "X_train_ratings_19, X_test_ratings_19, y_train_ratings_19, y_test_ratings_19 = split_scale_dataset(player_comb_ratings_19_df)\n",
    "X_train_ratings_20, X_test_ratings_20, y_train_ratings_20, y_test_ratings_20 = split_scale_dataset(player_comb_ratings_20_df)"
   ]
  },
  {
   "cell_type": "code",
   "execution_count": 558,
   "metadata": {},
   "outputs": [
    {
     "name": "stdout",
     "output_type": "stream",
     "text": [
      "Fitting 5 folds for each of 16 candidates, totalling 80 fits\n"
     ]
    },
    {
     "name": "stderr",
     "output_type": "stream",
     "text": [
      "[Parallel(n_jobs=4)]: Using backend LokyBackend with 4 concurrent workers.\n",
      "[Parallel(n_jobs=4)]: Done  33 tasks      | elapsed:   37.4s\n",
      "[Parallel(n_jobs=4)]: Done  80 out of  80 | elapsed:  1.4min finished\n"
     ]
    },
    {
     "name": "stdout",
     "output_type": "stream",
     "text": [
      "[21:56:49] WARNING: src/objective/regression_obj.cu:152: reg:linear is now deprecated in favor of reg:squarederror.\n"
     ]
    }
   ],
   "source": [
    "#Fit Model for 2018 Season\n",
    "player_ratings_model_18 = grid_search_cv_model(X_train_ratings_18,y_train_ratings_18)"
   ]
  },
  {
   "cell_type": "code",
   "execution_count": 559,
   "metadata": {},
   "outputs": [
    {
     "name": "stdout",
     "output_type": "stream",
     "text": [
      "0.2082193048607505\n"
     ]
    },
    {
     "data": {
      "image/png": "[encoded data removed]",
      "text/plain": [
       "<Figure size 432x288 with 1 Axes>"
      ]
     },
     "metadata": {},
     "output_type": "display_data"
    },
    {
     "data": {
      "text/html": [
       "<div>\n",
       "<style scoped>\n",
       "    .dataframe tbody tr th:only-of-type {\n",
       "        vertical-align: middle;\n",
       "    }\n",
       "\n",
       "    .dataframe tbody tr th {\n",
       "        vertical-align: top;\n",
       "    }\n",
       "\n",
       "    .dataframe thead th {\n",
       "        text-align: right;\n",
       "    }\n",
       "</style>\n",
       "<table border=\"1\" class=\"dataframe\">\n",
       "  <thead>\n",
       "    <tr style=\"text-align: right;\">\n",
       "      <th></th>\n",
       "      <th>Feature</th>\n",
       "      <th>Gain</th>\n",
       "    </tr>\n",
       "  </thead>\n",
       "  <tbody>\n",
       "    <tr>\n",
       "      <th>1</th>\n",
       "      <td>RATING_BALL_WINNING</td>\n",
       "      <td>0.207923</td>\n",
       "    </tr>\n",
       "    <tr>\n",
       "      <th>0</th>\n",
       "      <td>RATING_BALL_USE</td>\n",
       "      <td>0.163765</td>\n",
       "    </tr>\n",
       "    <tr>\n",
       "      <th>6</th>\n",
       "      <td>RATING_SHOTS</td>\n",
       "      <td>0.143162</td>\n",
       "    </tr>\n",
       "    <tr>\n",
       "      <th>5</th>\n",
       "      <td>RATING_PRESSURE</td>\n",
       "      <td>0.137031</td>\n",
       "    </tr>\n",
       "    <tr>\n",
       "      <th>3</th>\n",
       "      <td>RATING_FIELD_KICKS</td>\n",
       "      <td>0.126465</td>\n",
       "    </tr>\n",
       "    <tr>\n",
       "      <th>2</th>\n",
       "      <td>RATING_DEFENCE</td>\n",
       "      <td>0.124572</td>\n",
       "    </tr>\n",
       "    <tr>\n",
       "      <th>4</th>\n",
       "      <td>RATING_HITOUTS</td>\n",
       "      <td>0.097082</td>\n",
       "    </tr>\n",
       "  </tbody>\n",
       "</table>\n",
       "</div>"
      ],
      "text/plain": [
       "               Feature      Gain\n",
       "1  RATING_BALL_WINNING  0.207923\n",
       "0      RATING_BALL_USE  0.163765\n",
       "6         RATING_SHOTS  0.143162\n",
       "5      RATING_PRESSURE  0.137031\n",
       "3   RATING_FIELD_KICKS  0.126465\n",
       "2       RATING_DEFENCE  0.124572\n",
       "4       RATING_HITOUTS  0.097082"
      ]
     },
     "execution_count": 559,
     "metadata": {},
     "output_type": "execute_result"
    }
   ],
   "source": [
    "##Check Results and Feature Importance\n",
    "#Scatter plot of predictions vs actuals\n",
    "testing_df = get_testing_df(X_test_ratings_18,y_test_ratings_18,player_ratings_model_18)\n",
    "plt.scatter(testing_df['preds'],testing_df['actuals'])\n",
    "#Check MAE\n",
    "print(mean_absolute_error(testing_df['preds'],testing_df['actuals']))\n",
    "plt.show()\n",
    "\n",
    "#Top 10 Features\n",
    "feature_imp_df = get_feature_imp_df(player_comb_ratings_18_df,player_ratings_model_18)\n",
    "feature_imp_df[0:10]"
   ]
  },
  {
   "cell_type": "code",
   "execution_count": 560,
   "metadata": {},
   "outputs": [
    {
     "data": {
      "image/png": "[encoded data removed]",
      "text/plain": [
       "<Figure size 576x309.6 with 1 Axes>"
      ]
     },
     "metadata": {},
     "output_type": "display_data"
    }
   ],
   "source": [
    "# explain the model's predictions using SHAP\n",
    "shap_values, X_df = get_shap_imp_df(player_comb_ratings_18_df,X_train_ratings_18,player_ratings_model_18)\n",
    "shap.summary_plot(shap_values, X_df, plot_type=\"bar\")"
   ]
  },
  {
   "cell_type": "code",
   "execution_count": 561,
   "metadata": {},
   "outputs": [
    {
     "name": "stdout",
     "output_type": "stream",
     "text": [
      "Fitting 5 folds for each of 16 candidates, totalling 80 fits\n"
     ]
    },
    {
     "name": "stderr",
     "output_type": "stream",
     "text": [
      "[Parallel(n_jobs=4)]: Using backend LokyBackend with 4 concurrent workers.\n",
      "[Parallel(n_jobs=4)]: Done  33 tasks      | elapsed:   35.9s\n",
      "[Parallel(n_jobs=4)]: Done  80 out of  80 | elapsed:  1.3min finished\n"
     ]
    },
    {
     "name": "stdout",
     "output_type": "stream",
     "text": [
      "[21:59:59] WARNING: src/objective/regression_obj.cu:152: reg:linear is now deprecated in favor of reg:squarederror.\n"
     ]
    }
   ],
   "source": [
    "#Fit Ratings Model for 2019 Season\n",
    "player_ratings_model_19 = grid_search_cv_model(X_train_ratings_19,y_train_ratings_19)"
   ]
  },
  {
   "cell_type": "code",
   "execution_count": 562,
   "metadata": {},
   "outputs": [
    {
     "name": "stdout",
     "output_type": "stream",
     "text": [
      "0.19360361854278949\n"
     ]
    },
    {
     "data": {
      "image/png": "[encoded data removed]",
      "text/plain": [
       "<Figure size 432x288 with 1 Axes>"
      ]
     },
     "metadata": {},
     "output_type": "display_data"
    },
    {
     "data": {
      "text/html": [
       "<div>\n",
       "<style scoped>\n",
       "    .dataframe tbody tr th:only-of-type {\n",
       "        vertical-align: middle;\n",
       "    }\n",
       "\n",
       "    .dataframe tbody tr th {\n",
       "        vertical-align: top;\n",
       "    }\n",
       "\n",
       "    .dataframe thead th {\n",
       "        text-align: right;\n",
       "    }\n",
       "</style>\n",
       "<table border=\"1\" class=\"dataframe\">\n",
       "  <thead>\n",
       "    <tr style=\"text-align: right;\">\n",
       "      <th></th>\n",
       "      <th>Feature</th>\n",
       "      <th>Gain</th>\n",
       "    </tr>\n",
       "  </thead>\n",
       "  <tbody>\n",
       "    <tr>\n",
       "      <th>1</th>\n",
       "      <td>RATING_BALL_WINNING</td>\n",
       "      <td>0.222354</td>\n",
       "    </tr>\n",
       "    <tr>\n",
       "      <th>0</th>\n",
       "      <td>RATING_BALL_USE</td>\n",
       "      <td>0.163396</td>\n",
       "    </tr>\n",
       "    <tr>\n",
       "      <th>6</th>\n",
       "      <td>RATING_SHOTS</td>\n",
       "      <td>0.137099</td>\n",
       "    </tr>\n",
       "    <tr>\n",
       "      <th>5</th>\n",
       "      <td>RATING_PRESSURE</td>\n",
       "      <td>0.134561</td>\n",
       "    </tr>\n",
       "    <tr>\n",
       "      <th>2</th>\n",
       "      <td>RATING_DEFENCE</td>\n",
       "      <td>0.127113</td>\n",
       "    </tr>\n",
       "    <tr>\n",
       "      <th>3</th>\n",
       "      <td>RATING_FIELD_KICKS</td>\n",
       "      <td>0.121728</td>\n",
       "    </tr>\n",
       "    <tr>\n",
       "      <th>4</th>\n",
       "      <td>RATING_HITOUTS</td>\n",
       "      <td>0.093748</td>\n",
       "    </tr>\n",
       "  </tbody>\n",
       "</table>\n",
       "</div>"
      ],
      "text/plain": [
       "               Feature      Gain\n",
       "1  RATING_BALL_WINNING  0.222354\n",
       "0      RATING_BALL_USE  0.163396\n",
       "6         RATING_SHOTS  0.137099\n",
       "5      RATING_PRESSURE  0.134561\n",
       "2       RATING_DEFENCE  0.127113\n",
       "3   RATING_FIELD_KICKS  0.121728\n",
       "4       RATING_HITOUTS  0.093748"
      ]
     },
     "execution_count": 562,
     "metadata": {},
     "output_type": "execute_result"
    }
   ],
   "source": [
    "##Check Results and Feature Importance\n",
    "#Scatter plot of predictions vs actuals\n",
    "testing_df = get_testing_df(X_test_ratings_19,y_test_ratings_19,player_ratings_model_19)\n",
    "plt.scatter(testing_df['preds'],testing_df['actuals'])\n",
    "#Check MAE\n",
    "print(mean_absolute_error(testing_df['preds'],testing_df['actuals']))\n",
    "plt.show()\n",
    "\n",
    "#Top 10 Features\n",
    "feature_imp_df = get_feature_imp_df(player_comb_ratings_19_df,player_ratings_model_19)\n",
    "feature_imp_df[0:10]"
   ]
  },
  {
   "cell_type": "code",
   "execution_count": 563,
   "metadata": {},
   "outputs": [
    {
     "data": {
      "image/png": "[encoded data removed]",
      "text/plain": [
       "<Figure size 576x309.6 with 1 Axes>"
      ]
     },
     "metadata": {},
     "output_type": "display_data"
    }
   ],
   "source": [
    "# explain the model's predictions using SHAP\n",
    "shap_values, X_df = get_shap_imp_df(player_comb_ratings_19_df,X_train_ratings_19,player_ratings_model_19)\n",
    "shap.summary_plot(shap_values, X_df, plot_type=\"bar\")"
   ]
  },
  {
   "cell_type": "code",
   "execution_count": 564,
   "metadata": {},
   "outputs": [
    {
     "name": "stdout",
     "output_type": "stream",
     "text": [
      "Fitting 5 folds for each of 16 candidates, totalling 80 fits\n"
     ]
    },
    {
     "name": "stderr",
     "output_type": "stream",
     "text": [
      "[Parallel(n_jobs=4)]: Using backend LokyBackend with 4 concurrent workers.\n",
      "[Parallel(n_jobs=4)]: Done  33 tasks      | elapsed:   28.0s\n",
      "[Parallel(n_jobs=4)]: Done  80 out of  80 | elapsed:  1.0min finished\n"
     ]
    },
    {
     "name": "stdout",
     "output_type": "stream",
     "text": [
      "[22:01:16] WARNING: src/objective/regression_obj.cu:152: reg:linear is now deprecated in favor of reg:squarederror.\n"
     ]
    }
   ],
   "source": [
    "#Fit Ratings Model for 2020 Season\n",
    "player_ratings_model_20 = grid_search_cv_model(X_train_ratings_20,y_train_ratings_20)"
   ]
  },
  {
   "cell_type": "code",
   "execution_count": 565,
   "metadata": {},
   "outputs": [
    {
     "name": "stdout",
     "output_type": "stream",
     "text": [
      "0.16910787129469038\n"
     ]
    },
    {
     "data": {
      "image/png": "[encoded data removed]",
      "text/plain": [
       "<Figure size 432x288 with 1 Axes>"
      ]
     },
     "metadata": {},
     "output_type": "display_data"
    },
    {
     "data": {
      "text/html": [
       "<div>\n",
       "<style scoped>\n",
       "    .dataframe tbody tr th:only-of-type {\n",
       "        vertical-align: middle;\n",
       "    }\n",
       "\n",
       "    .dataframe tbody tr th {\n",
       "        vertical-align: top;\n",
       "    }\n",
       "\n",
       "    .dataframe thead th {\n",
       "        text-align: right;\n",
       "    }\n",
       "</style>\n",
       "<table border=\"1\" class=\"dataframe\">\n",
       "  <thead>\n",
       "    <tr style=\"text-align: right;\">\n",
       "      <th></th>\n",
       "      <th>Feature</th>\n",
       "      <th>Gain</th>\n",
       "    </tr>\n",
       "  </thead>\n",
       "  <tbody>\n",
       "    <tr>\n",
       "      <th>1</th>\n",
       "      <td>RATING_BALL_WINNING</td>\n",
       "      <td>0.202716</td>\n",
       "    </tr>\n",
       "    <tr>\n",
       "      <th>6</th>\n",
       "      <td>RATING_SHOTS</td>\n",
       "      <td>0.164676</td>\n",
       "    </tr>\n",
       "    <tr>\n",
       "      <th>0</th>\n",
       "      <td>RATING_BALL_USE</td>\n",
       "      <td>0.140784</td>\n",
       "    </tr>\n",
       "    <tr>\n",
       "      <th>2</th>\n",
       "      <td>RATING_DEFENCE</td>\n",
       "      <td>0.134085</td>\n",
       "    </tr>\n",
       "    <tr>\n",
       "      <th>5</th>\n",
       "      <td>RATING_PRESSURE</td>\n",
       "      <td>0.131782</td>\n",
       "    </tr>\n",
       "    <tr>\n",
       "      <th>3</th>\n",
       "      <td>RATING_FIELD_KICKS</td>\n",
       "      <td>0.120685</td>\n",
       "    </tr>\n",
       "    <tr>\n",
       "      <th>4</th>\n",
       "      <td>RATING_HITOUTS</td>\n",
       "      <td>0.105272</td>\n",
       "    </tr>\n",
       "  </tbody>\n",
       "</table>\n",
       "</div>"
      ],
      "text/plain": [
       "               Feature      Gain\n",
       "1  RATING_BALL_WINNING  0.202716\n",
       "6         RATING_SHOTS  0.164676\n",
       "0      RATING_BALL_USE  0.140784\n",
       "2       RATING_DEFENCE  0.134085\n",
       "5      RATING_PRESSURE  0.131782\n",
       "3   RATING_FIELD_KICKS  0.120685\n",
       "4       RATING_HITOUTS  0.105272"
      ]
     },
     "execution_count": 565,
     "metadata": {},
     "output_type": "execute_result"
    }
   ],
   "source": [
    "##Check Results and Feature Importance\n",
    "#Scatter plot of predictions vs actuals\n",
    "testing_df = get_testing_df(X_test_ratings_20,y_test_ratings_20,player_ratings_model_20)\n",
    "plt.scatter(testing_df['preds'],testing_df['actuals'])\n",
    "#Check MAE\n",
    "print(mean_absolute_error(testing_df['preds'],testing_df['actuals']))\n",
    "plt.show()\n",
    "\n",
    "#Top 10 Features\n",
    "feature_imp_df = get_feature_imp_df(player_comb_ratings_20_df,player_ratings_model_20)\n",
    "feature_imp_df[0:10]"
   ]
  },
  {
   "cell_type": "code",
   "execution_count": 566,
   "metadata": {},
   "outputs": [
    {
     "data": {
      "image/png": "[encoded data removed]",
      "text/plain": [
       "<Figure size 576x309.6 with 1 Axes>"
      ]
     },
     "metadata": {},
     "output_type": "display_data"
    }
   ],
   "source": [
    "# explain the model's predictions using SHAP\n",
    "shap_values, X_df = get_shap_imp_df(player_comb_ratings_20_df,X_train_ratings_20,player_ratings_model_20)\n",
    "shap.summary_plot(shap_values, X_df, plot_type=\"bar\")"
   ]
  },
  {
   "cell_type": "code",
   "execution_count": null,
   "metadata": {},
   "outputs": [],
   "source": [
    "###################################\n",
    "###################################\n",
    "############TEAM MODELS############\n",
    "###################################\n",
    "###################################"
   ]
  },
  {
   "cell_type": "code",
   "execution_count": 494,
   "metadata": {},
   "outputs": [
    {
     "name": "stdout",
     "output_type": "stream",
     "text": [
      "Fitting 5 folds for each of 16 candidates, totalling 80 fits\n"
     ]
    },
    {
     "name": "stderr",
     "output_type": "stream",
     "text": [
      "[Parallel(n_jobs=4)]: Using backend LokyBackend with 4 concurrent workers.\n",
      "[Parallel(n_jobs=4)]: Done  33 tasks      | elapsed:  2.1min\n",
      "[Parallel(n_jobs=4)]: Done  80 out of  80 | elapsed:  5.5min finished\n"
     ]
    },
    {
     "name": "stdout",
     "output_type": "stream",
     "text": [
      "[20:08:14] WARNING: src/objective/regression_obj.cu:152: reg:linear is now deprecated in favor of reg:squarederror.\n"
     ]
    }
   ],
   "source": [
    "team_18_df = create_team_modelling_df(team_summary_18_df)\n",
    "X_train_t18, X_test_t18, y_train_t18, y_test_t18 = split_scale_dataset(team_18_df)\n",
    "team_model_18 = grid_search_cv_model(X_train_t18,y_train_t18)"
   ]
  },
  {
   "cell_type": "code",
   "execution_count": 721,
   "metadata": {},
   "outputs": [
    {
     "name": "stdout",
     "output_type": "stream",
     "text": [
      "0.6019830254527556\n"
     ]
    },
    {
     "data": {
      "image/png": "[encoded data removed]",
      "text/plain": [
       "<Figure size 432x288 with 1 Axes>"
      ]
     },
     "metadata": {},
     "output_type": "display_data"
    },
    {
     "data": {
      "text/html": [
       "<div>\n",
       "<style scoped>\n",
       "    .dataframe tbody tr th:only-of-type {\n",
       "        vertical-align: middle;\n",
       "    }\n",
       "\n",
       "    .dataframe tbody tr th {\n",
       "        vertical-align: top;\n",
       "    }\n",
       "\n",
       "    .dataframe thead th {\n",
       "        text-align: right;\n",
       "    }\n",
       "</style>\n",
       "<table border=\"1\" class=\"dataframe\">\n",
       "  <thead>\n",
       "    <tr style=\"text-align: right;\">\n",
       "      <th></th>\n",
       "      <th>Feature</th>\n",
       "      <th>Gain</th>\n",
       "    </tr>\n",
       "  </thead>\n",
       "  <tbody>\n",
       "    <tr>\n",
       "      <th>199</th>\n",
       "      <td>CHAIN_METRES_NET</td>\n",
       "      <td>0.158408</td>\n",
       "    </tr>\n",
       "    <tr>\n",
       "      <th>161</th>\n",
       "      <td>TIME_IN_POSS_DIFF</td>\n",
       "      <td>0.136437</td>\n",
       "    </tr>\n",
       "    <tr>\n",
       "      <th>168</th>\n",
       "      <td>TOTAL_GAINED_METRES</td>\n",
       "      <td>0.027651</td>\n",
       "    </tr>\n",
       "    <tr>\n",
       "      <th>94</th>\n",
       "      <td>KICK_GAIN_METRES</td>\n",
       "      <td>0.022585</td>\n",
       "    </tr>\n",
       "    <tr>\n",
       "      <th>164</th>\n",
       "      <td>TIME_IN_POSS_SQUAD</td>\n",
       "      <td>0.019327</td>\n",
       "    </tr>\n",
       "    <tr>\n",
       "      <th>163</th>\n",
       "      <td>TIME_IN_POSS_OPP_SQUAD</td>\n",
       "      <td>0.014922</td>\n",
       "    </tr>\n",
       "    <tr>\n",
       "      <th>246</th>\n",
       "      <td>METRES_GAINED_EFF</td>\n",
       "      <td>0.014883</td>\n",
       "    </tr>\n",
       "    <tr>\n",
       "      <th>248</th>\n",
       "      <td>METRES_GAINED_RETAINED</td>\n",
       "      <td>0.013498</td>\n",
       "    </tr>\n",
       "    <tr>\n",
       "      <th>195</th>\n",
       "      <td>CHAIN_METRES</td>\n",
       "      <td>0.013453</td>\n",
       "    </tr>\n",
       "    <tr>\n",
       "      <th>71</th>\n",
       "      <td>IN50_KICK_RETAIN</td>\n",
       "      <td>0.011010</td>\n",
       "    </tr>\n",
       "  </tbody>\n",
       "</table>\n",
       "</div>"
      ],
      "text/plain": [
       "                    Feature      Gain\n",
       "199        CHAIN_METRES_NET  0.158408\n",
       "161       TIME_IN_POSS_DIFF  0.136437\n",
       "168     TOTAL_GAINED_METRES  0.027651\n",
       "94         KICK_GAIN_METRES  0.022585\n",
       "164      TIME_IN_POSS_SQUAD  0.019327\n",
       "163  TIME_IN_POSS_OPP_SQUAD  0.014922\n",
       "246       METRES_GAINED_EFF  0.014883\n",
       "248  METRES_GAINED_RETAINED  0.013498\n",
       "195            CHAIN_METRES  0.013453\n",
       "71         IN50_KICK_RETAIN  0.011010"
      ]
     },
     "execution_count": 721,
     "metadata": {},
     "output_type": "execute_result"
    }
   ],
   "source": [
    "##Check Results and Feature Importance\n",
    "#Scatter plot of predictions vs actuals\n",
    "testing_df = get_testing_df(X_test_t18,y_test_t18,team_model_18)\n",
    "plt.scatter(testing_df['preds'],testing_df['actuals'])\n",
    "#Check R2\n",
    "print(r2_score(testing_df['preds'],testing_df['actuals']))\n",
    "plt.show()\n",
    "\n",
    "#Top 10 Features\n",
    "feature_imp_df = get_feature_imp_df(team_18_df,team_model_18)\n",
    "feature_imp_df[0:10]"
   ]
  },
  {
   "cell_type": "code",
   "execution_count": 722,
   "metadata": {},
   "outputs": [
    {
     "data": {
      "image/png": "[encoded data removed]",
      "text/plain": [
       "<Figure size 576x684 with 1 Axes>"
      ]
     },
     "metadata": {},
     "output_type": "display_data"
    }
   ],
   "source": [
    "# explain the model's predictions using SHAP\n",
    "shap_values, X_df = get_shap_imp_df(team_18_df,X_train_t18,team_model_18)\n",
    "shap.summary_plot(shap_values, X_df, plot_type=\"bar\")"
   ]
  },
  {
   "cell_type": "code",
   "execution_count": 496,
   "metadata": {},
   "outputs": [
    {
     "name": "stdout",
     "output_type": "stream",
     "text": [
      "Fitting 5 folds for each of 16 candidates, totalling 80 fits\n"
     ]
    },
    {
     "name": "stderr",
     "output_type": "stream",
     "text": [
      "[Parallel(n_jobs=4)]: Using backend LokyBackend with 4 concurrent workers.\n",
      "[Parallel(n_jobs=4)]: Done  33 tasks      | elapsed:  1.9min\n",
      "[Parallel(n_jobs=4)]: Done  80 out of  80 | elapsed:  5.2min finished\n"
     ]
    },
    {
     "name": "stdout",
     "output_type": "stream",
     "text": [
      "[20:13:44] WARNING: src/objective/regression_obj.cu:152: reg:linear is now deprecated in favor of reg:squarederror.\n"
     ]
    }
   ],
   "source": [
    "team_19_df = create_team_modelling_df(team_summary_19_df)\n",
    "X_train_t19, X_test_t19, y_train_t19, y_test_t19 = split_scale_dataset(team_19_df)\n",
    "team_model_19 = grid_search_cv_model(X_train_t19,y_train_t19)"
   ]
  },
  {
   "cell_type": "code",
   "execution_count": 724,
   "metadata": {},
   "outputs": [
    {
     "name": "stdout",
     "output_type": "stream",
     "text": [
      "0.5599583795935252\n"
     ]
    },
    {
     "data": {
      "image/png": "[encoded data removed]",
      "text/plain": [
       "<Figure size 432x288 with 1 Axes>"
      ]
     },
     "metadata": {},
     "output_type": "display_data"
    },
    {
     "data": {
      "text/html": [
       "<div>\n",
       "<style scoped>\n",
       "    .dataframe tbody tr th:only-of-type {\n",
       "        vertical-align: middle;\n",
       "    }\n",
       "\n",
       "    .dataframe tbody tr th {\n",
       "        vertical-align: top;\n",
       "    }\n",
       "\n",
       "    .dataframe thead th {\n",
       "        text-align: right;\n",
       "    }\n",
       "</style>\n",
       "<table border=\"1\" class=\"dataframe\">\n",
       "  <thead>\n",
       "    <tr style=\"text-align: right;\">\n",
       "      <th></th>\n",
       "      <th>Feature</th>\n",
       "      <th>Gain</th>\n",
       "    </tr>\n",
       "  </thead>\n",
       "  <tbody>\n",
       "    <tr>\n",
       "      <th>161</th>\n",
       "      <td>TIME_IN_POSS_DIFF</td>\n",
       "      <td>0.149982</td>\n",
       "    </tr>\n",
       "    <tr>\n",
       "      <th>199</th>\n",
       "      <td>CHAIN_METRES_NET</td>\n",
       "      <td>0.136337</td>\n",
       "    </tr>\n",
       "    <tr>\n",
       "      <th>164</th>\n",
       "      <td>TIME_IN_POSS_SQUAD</td>\n",
       "      <td>0.023611</td>\n",
       "    </tr>\n",
       "    <tr>\n",
       "      <th>195</th>\n",
       "      <td>CHAIN_METRES</td>\n",
       "      <td>0.023269</td>\n",
       "    </tr>\n",
       "    <tr>\n",
       "      <th>168</th>\n",
       "      <td>TOTAL_GAINED_METRES</td>\n",
       "      <td>0.022083</td>\n",
       "    </tr>\n",
       "    <tr>\n",
       "      <th>247</th>\n",
       "      <td>METRES_GAINED_NET</td>\n",
       "      <td>0.016588</td>\n",
       "    </tr>\n",
       "    <tr>\n",
       "      <th>127</th>\n",
       "      <td>RE50_RESULT_OTHER</td>\n",
       "      <td>0.015108</td>\n",
       "    </tr>\n",
       "    <tr>\n",
       "      <th>207</th>\n",
       "      <td>CHAIN_METRES_REPLY</td>\n",
       "      <td>0.011440</td>\n",
       "    </tr>\n",
       "    <tr>\n",
       "      <th>163</th>\n",
       "      <td>TIME_IN_POSS_OPP_SQUAD</td>\n",
       "      <td>0.010316</td>\n",
       "    </tr>\n",
       "    <tr>\n",
       "      <th>248</th>\n",
       "      <td>METRES_GAINED_RETAINED</td>\n",
       "      <td>0.009698</td>\n",
       "    </tr>\n",
       "  </tbody>\n",
       "</table>\n",
       "</div>"
      ],
      "text/plain": [
       "                    Feature      Gain\n",
       "161       TIME_IN_POSS_DIFF  0.149982\n",
       "199        CHAIN_METRES_NET  0.136337\n",
       "164      TIME_IN_POSS_SQUAD  0.023611\n",
       "195            CHAIN_METRES  0.023269\n",
       "168     TOTAL_GAINED_METRES  0.022083\n",
       "247       METRES_GAINED_NET  0.016588\n",
       "127       RE50_RESULT_OTHER  0.015108\n",
       "207      CHAIN_METRES_REPLY  0.011440\n",
       "163  TIME_IN_POSS_OPP_SQUAD  0.010316\n",
       "248  METRES_GAINED_RETAINED  0.009698"
      ]
     },
     "execution_count": 724,
     "metadata": {},
     "output_type": "execute_result"
    }
   ],
   "source": [
    "##Check Results and Feature Importance\n",
    "#Scatter plot of predictions vs actuals\n",
    "testing_df = get_testing_df(X_test_t19,y_test_t19,team_model_19)\n",
    "plt.scatter(testing_df['preds'],testing_df['actuals'])\n",
    "#Check R2\n",
    "print(r2_score(testing_df['preds'],testing_df['actuals']))\n",
    "plt.show()\n",
    "\n",
    "#Top 10 Features\n",
    "feature_imp_df = get_feature_imp_df(team_19_df,team_model_19)\n",
    "feature_imp_df[0:10]"
   ]
  },
  {
   "cell_type": "code",
   "execution_count": 725,
   "metadata": {},
   "outputs": [
    {
     "data": {
      "image/png": "[encoded data removed]",
      "text/plain": [
       "<Figure size 576x684 with 1 Axes>"
      ]
     },
     "metadata": {},
     "output_type": "display_data"
    }
   ],
   "source": [
    "# explain the model's predictions using SHAP\n",
    "shap_values, X_df = get_shap_imp_df(team_19_df,X_train_t19,team_model_19)\n",
    "shap.summary_plot(shap_values, X_df, plot_type=\"bar\")"
   ]
  },
  {
   "cell_type": "code",
   "execution_count": 498,
   "metadata": {},
   "outputs": [
    {
     "name": "stdout",
     "output_type": "stream",
     "text": [
      "Fitting 5 folds for each of 16 candidates, totalling 80 fits\n"
     ]
    },
    {
     "name": "stderr",
     "output_type": "stream",
     "text": [
      "[Parallel(n_jobs=4)]: Using backend LokyBackend with 4 concurrent workers.\n",
      "[Parallel(n_jobs=4)]: Done  33 tasks      | elapsed:  1.4min\n",
      "[Parallel(n_jobs=4)]: Done  80 out of  80 | elapsed:  3.9min finished\n"
     ]
    },
    {
     "name": "stdout",
     "output_type": "stream",
     "text": [
      "[20:17:59] WARNING: src/objective/regression_obj.cu:152: reg:linear is now deprecated in favor of reg:squarederror.\n"
     ]
    }
   ],
   "source": [
    "team_20_df = create_team_modelling_df(team_summary_20_df)\n",
    "X_train_t20, X_test_t20, y_train_t20, y_test_t20 = split_scale_dataset(team_20_df)\n",
    "team_model_20 = grid_search_cv_model(X_train_t20,y_train_t20)"
   ]
  },
  {
   "cell_type": "code",
   "execution_count": 727,
   "metadata": {},
   "outputs": [
    {
     "name": "stdout",
     "output_type": "stream",
     "text": [
      "0.6761623336336404\n"
     ]
    },
    {
     "data": {
      "image/png": "[encoded data removed]",
      "text/plain": [
       "<Figure size 432x288 with 1 Axes>"
      ]
     },
     "metadata": {},
     "output_type": "display_data"
    },
    {
     "data": {
      "text/html": [
       "<div>\n",
       "<style scoped>\n",
       "    .dataframe tbody tr th:only-of-type {\n",
       "        vertical-align: middle;\n",
       "    }\n",
       "\n",
       "    .dataframe tbody tr th {\n",
       "        vertical-align: top;\n",
       "    }\n",
       "\n",
       "    .dataframe thead th {\n",
       "        text-align: right;\n",
       "    }\n",
       "</style>\n",
       "<table border=\"1\" class=\"dataframe\">\n",
       "  <thead>\n",
       "    <tr style=\"text-align: right;\">\n",
       "      <th></th>\n",
       "      <th>Feature</th>\n",
       "      <th>Gain</th>\n",
       "    </tr>\n",
       "  </thead>\n",
       "  <tbody>\n",
       "    <tr>\n",
       "      <th>199</th>\n",
       "      <td>CHAIN_METRES_NET</td>\n",
       "      <td>0.142703</td>\n",
       "    </tr>\n",
       "    <tr>\n",
       "      <th>164</th>\n",
       "      <td>TIME_IN_POSS_SQUAD</td>\n",
       "      <td>0.072580</td>\n",
       "    </tr>\n",
       "    <tr>\n",
       "      <th>161</th>\n",
       "      <td>TIME_IN_POSS_DIFF</td>\n",
       "      <td>0.067964</td>\n",
       "    </tr>\n",
       "    <tr>\n",
       "      <th>247</th>\n",
       "      <td>METRES_GAINED_NET</td>\n",
       "      <td>0.062343</td>\n",
       "    </tr>\n",
       "    <tr>\n",
       "      <th>168</th>\n",
       "      <td>TOTAL_GAINED_METRES</td>\n",
       "      <td>0.059285</td>\n",
       "    </tr>\n",
       "    <tr>\n",
       "      <th>163</th>\n",
       "      <td>TIME_IN_POSS_OPP_SQUAD</td>\n",
       "      <td>0.040195</td>\n",
       "    </tr>\n",
       "    <tr>\n",
       "      <th>94</th>\n",
       "      <td>KICK_GAIN_METRES</td>\n",
       "      <td>0.017961</td>\n",
       "    </tr>\n",
       "    <tr>\n",
       "      <th>207</th>\n",
       "      <td>CHAIN_METRES_REPLY</td>\n",
       "      <td>0.014071</td>\n",
       "    </tr>\n",
       "    <tr>\n",
       "      <th>234</th>\n",
       "      <td>IN50_RPT_RETURN</td>\n",
       "      <td>0.011050</td>\n",
       "    </tr>\n",
       "    <tr>\n",
       "      <th>195</th>\n",
       "      <td>CHAIN_METRES</td>\n",
       "      <td>0.011021</td>\n",
       "    </tr>\n",
       "  </tbody>\n",
       "</table>\n",
       "</div>"
      ],
      "text/plain": [
       "                    Feature      Gain\n",
       "199        CHAIN_METRES_NET  0.142703\n",
       "164      TIME_IN_POSS_SQUAD  0.072580\n",
       "161       TIME_IN_POSS_DIFF  0.067964\n",
       "247       METRES_GAINED_NET  0.062343\n",
       "168     TOTAL_GAINED_METRES  0.059285\n",
       "163  TIME_IN_POSS_OPP_SQUAD  0.040195\n",
       "94         KICK_GAIN_METRES  0.017961\n",
       "207      CHAIN_METRES_REPLY  0.014071\n",
       "234         IN50_RPT_RETURN  0.011050\n",
       "195            CHAIN_METRES  0.011021"
      ]
     },
     "execution_count": 727,
     "metadata": {},
     "output_type": "execute_result"
    }
   ],
   "source": [
    "##Check Results and Feature Importance\n",
    "#Scatter plot of predictions vs actuals\n",
    "testing_df = get_testing_df(X_test_t20,y_test_t20,team_model_20)\n",
    "plt.scatter(testing_df['preds'],testing_df['actuals'])\n",
    "#Check R2\n",
    "print(r2_score(testing_df['preds'],testing_df['actuals']))\n",
    "plt.show()\n",
    "\n",
    "#Top 10 Features\n",
    "feature_imp_df = get_feature_imp_df(team_20_df,team_model_20)\n",
    "feature_imp_df[0:10]"
   ]
  },
  {
   "cell_type": "code",
   "execution_count": 728,
   "metadata": {},
   "outputs": [
    {
     "data": {
      "image/png": "[encoded data removed]",
      "text/plain": [
       "<Figure size 576x684 with 1 Axes>"
      ]
     },
     "metadata": {},
     "output_type": "display_data"
    }
   ],
   "source": [
    "# explain the model's predictions using SHAP\n",
    "shap_values, X_df = get_shap_imp_df(team_20_df,X_train_t20,team_model_20)\n",
    "shap.summary_plot(shap_values, X_df, plot_type=\"bar\")"
   ]
  },
  {
   "cell_type": "code",
   "execution_count": 729,
   "metadata": {},
   "outputs": [],
   "source": [
    "#Get full predictions to write to file\n",
    "X_full_18 = team_18_df.iloc[:,:-1].values\n",
    "y_full_18 = team_18_df.iloc[:,-1].values\n",
    "X_full_19 = team_19_df.iloc[:,:-1].values\n",
    "y_full_19 = team_19_df.iloc[:,-1].values\n",
    "X_full_20 = team_20_df.iloc[:,:-1].values\n",
    "y_full_20 = team_20_df.iloc[:,-1].values\n",
    "\n",
    "full_df_18 = get_testing_df(X_full_18,y_full_18,team_model_18)\n",
    "full_df_19 = get_testing_df(X_full_19,y_full_19,team_model_19)\n",
    "full_df_20 = get_testing_df(X_full_20,y_full_20,team_model_20)\n",
    "\n",
    "full_df_18.index = team_18_df.index\n",
    "full_df_19.index = team_19_df.index\n",
    "full_df_20.index = team_20_df.index\n",
    "\n",
    "full_df_18.to_csv(\"AFL-2020-Hackathon/afl_team_preds_2018.csv\")\n",
    "full_df_19.to_csv(\"AFL-2020-Hackathon/afl_team_preds_2019.csv\")\n",
    "full_df_20.to_csv(\"AFL-2020-Hackathon/afl_team_preds_2020.csv\")"
   ]
  },
  {
   "cell_type": "code",
   "execution_count": 730,
   "metadata": {},
   "outputs": [],
   "source": [
    "#Write Shap values to file\n",
    "shap_values_18, X_df_18 = get_shap_imp_df(team_18_df,X_train_t18,team_model_18)\n",
    "shap_values_19, X_df_19 = get_shap_imp_df(team_19_df,X_train_t19,team_model_19)\n",
    "shap_values_20, X_df_20 = get_shap_imp_df(team_20_df,X_train_t20,team_model_20)\n",
    "\n",
    "shap_df_18 = pd.DataFrame(shap_values_18, columns=team_18_df.columns[:-1], index=X_train_t18.index)\n",
    "shap_df_19 = pd.DataFrame(shap_values_19, columns=team_19_df.columns[:-1], index=X_train_t19.index)\n",
    "shap_df_20 = pd.DataFrame(shap_values_20, columns=team_20_df.columns[:-1], index=X_train_t20.index)\n",
    "\n",
    "shap_df_18.to_csv(\"AFL-2020-Hackathon/teams_shap_18.csv\")\n",
    "shap_df_19.to_csv(\"AFL-2020-Hackathon/teams_shap_19.csv\")\n",
    "shap_df_20.to_csv(\"AFL-2020-Hackathon/teams_shap_20.csv\")"
   ]
  },
  {
   "cell_type": "code",
   "execution_count": 736,
   "metadata": {},
   "outputs": [
    {
     "data": {
      "image/png": "[encoded data removed]",
      "text/plain": [
       "<Figure size 576x684 with 1 Axes>"
      ]
     },
     "metadata": {},
     "output_type": "display_data"
    }
   ],
   "source": [
    "shap_plot = shap.summary_plot(shap_values, X_df, plot_type=\"bar\")"
   ]
  }
 ],
 "metadata": {
  "kernelspec": {
   "display_name": "Python 3",
   "language": "python",
   "name": "python3"
  },
  "language_info": {
   "codemirror_mode": {
    "name": "ipython",
    "version": 3
   },
   "file_extension": ".py",
   "mimetype": "text/x-python",
   "name": "python",
   "nbconvert_exporter": "python",
   "pygments_lexer": "ipython3",
   "version": "3.6.8"
  }
 },
 "nbformat": 4,
 "nbformat_minor": 2
}
